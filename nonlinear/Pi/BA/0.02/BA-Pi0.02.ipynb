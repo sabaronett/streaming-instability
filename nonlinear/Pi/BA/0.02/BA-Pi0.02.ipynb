{
 "cells": [
  {
   "cell_type": "markdown",
   "metadata": {
    "tags": []
   },
   "source": [
    "# BA, $\\Pi=0.02$"
   ]
  },
  {
   "cell_type": "markdown",
   "metadata": {
    "tags": []
   },
   "source": [
    "|Author| Stanley A. Baronett|\n",
    "|--|-------------------------------|\n",
    "|Created | 8/28/2021|"
   ]
  },
  {
   "cell_type": "markdown",
   "metadata": {
    "tags": []
   },
   "source": [
    "## Introduction"
   ]
  },
  {
   "cell_type": "code",
   "execution_count": 1,
   "metadata": {
    "jupyter": {
     "source_hidden": true
    },
    "tags": []
   },
   "outputs": [],
   "source": [
    "import sys\n",
    "sys.path.insert(0, '/home/stanley/github/sabaronett/local/athena/athena-dust/vis/python')\n",
    "import athena_read\n",
    "from IPython.display import IFrame\n",
    "import matplotlib.pyplot as plt\n",
    "import numpy as np\n",
    "import pandas as pd\n",
    "from pathlib import Path"
   ]
  },
  {
   "cell_type": "markdown",
   "metadata": {
    "tags": []
   },
   "source": [
    "### Parameters"
   ]
  },
  {
   "cell_type": "code",
   "execution_count": 2,
   "metadata": {
    "jupyter": {
     "source_hidden": true
    },
    "tags": []
   },
   "outputs": [
    {
     "data": {
      "text/html": [
       "<style type=\"text/css\">\n",
       "</style>\n",
       "<table id=\"T_7b859_\">\n",
       "  <thead>\n",
       "    <tr>\n",
       "      <th class=\"blank level0\" >&nbsp;</th>\n",
       "      <th class=\"col_heading level0 col0\" >Units</th>\n",
       "      <th class=\"col_heading level0 col1\" >$\\eta,\\,\\Pi$</th>\n",
       "      <th class=\"col_heading level0 col2\" >$\\tau_s$</th>\n",
       "      <th class=\"col_heading level0 col3\" >$\\epsilon$</th>\n",
       "      <th class=\"col_heading level0 col4\" >$L_x \\times L_y \\times L_z$</th>\n",
       "      <th class=\"col_heading level0 col5\" >$N_x \\times N_y \\times N_z$</th>\n",
       "      <th class=\"col_heading level0 col6\" >$N_p$</th>\n",
       "      <th class=\"col_heading level0 col7\" >$\\Delta t$</th>\n",
       "    </tr>\n",
       "  </thead>\n",
       "  <tbody>\n",
       "    <tr>\n",
       "      <th id=\"T_7b859_level0_row0\" class=\"row_heading level0 row0\" >0</th>\n",
       "      <td id=\"T_7b859_row0_col0\" class=\"data row0 col0\" >JY07</td>\n",
       "      <td id=\"T_7b859_row0_col1\" class=\"data row0 col1\" >$0.002$</td>\n",
       "      <td id=\"T_7b859_row0_col2\" class=\"data row0 col2\" >$1.0$</td>\n",
       "      <td id=\"T_7b859_row0_col3\" class=\"data row0 col3\" >$0.2$</td>\n",
       "      <td id=\"T_7b859_row0_col4\" class=\"data row0 col4\" >$100.0 \\times 100.0 \\times 100.0\\,[\\eta r]$</td>\n",
       "      <td id=\"T_7b859_row0_col5\" class=\"data row0 col5\" >$512 \\times 1 \\times 512$</td>\n",
       "      <td id=\"T_7b859_row0_col6\" class=\"data row0 col6\" >$1.0\\times10^6$</td>\n",
       "      <td id=\"T_7b859_row0_col7\" class=\"data row0 col7\" >$502.7\\,$$\\Omega^{-1}$</td>\n",
       "    </tr>\n",
       "    <tr>\n",
       "      <th id=\"T_7b859_level0_row1\" class=\"row_heading level0 row1\" >1</th>\n",
       "      <td id=\"T_7b859_row1_col0\" class=\"data row1 col0\" >Code</td>\n",
       "      <td id=\"T_7b859_row1_col1\" class=\"data row1 col1\" >$0.020$</td>\n",
       "      <td id=\"T_7b859_row1_col2\" class=\"data row1 col2\" >$1.0$</td>\n",
       "      <td id=\"T_7b859_row1_col3\" class=\"data row1 col3\" >$0.2$</td>\n",
       "      <td id=\"T_7b859_row1_col4\" class=\"data row1 col4\" >$2.0 \\times 2.0 \\times 2.0\\,[H]$</td>\n",
       "      <td id=\"T_7b859_row1_col5\" class=\"data row1 col5\" >$512 \\times 1 \\times 512$</td>\n",
       "      <td id=\"T_7b859_row1_col6\" class=\"data row1 col6\" >$n_p=4$</td>\n",
       "      <td id=\"T_7b859_row1_col7\" class=\"data row1 col7\" >$80.0\\,T$</td>\n",
       "    </tr>\n",
       "  </tbody>\n",
       "</table>\n"
      ],
      "text/plain": [
       "<pandas.io.formats.style.Styler at 0x7f8d6987fe20>"
      ]
     },
     "execution_count": 2,
     "metadata": {},
     "output_type": "execute_result"
    }
   ],
   "source": [
    "units = ['JY07', 'Code']\n",
    "tlims, epsilons, tau_ss, Ns, Ls, Nps, Pis = [], [], [], [], [], [], []\n",
    "r = 10                                                 # [H]\n",
    "\n",
    "athinput = athena_read.athinput('athinput.si')\n",
    "dt_hst = athinput['output3']['dt']                     # time between hst outputs\n",
    "Nx = athinput['mesh']['nx1']                           # Radial x zones\n",
    "Ny = athinput['mesh']['nx3']                           # Azimuthal y zones\n",
    "Nz = athinput['mesh']['nx2']                           # Vertical z zones\n",
    "Ns.append(r'${:.0f} \\times {:.0f} \\times {:.0f}$'.format(Nx, Ny, Nz))\n",
    "Ns.append(Ns[0])\n",
    "c_s = athinput['hydro']['iso_sound_speed']             # sound speed\n",
    "Pi = athinput['problem']['duy0']                       # rad. press. grad.\n",
    "eta = Pi/r\n",
    "etav_K = Pi*c_s                                        # velocity (JY07)\n",
    "Pis.append(eta)\n",
    "Pis.append(Pi)\n",
    "Lx = (athinput['mesh']['x1max'] - athinput['mesh']['x1min'])\n",
    "Ly = (athinput['mesh']['x3max'] - athinput['mesh']['x3min'])\n",
    "Lz = (athinput['mesh']['x2max'] - athinput['mesh']['x2min'])\n",
    "Ls.append(r'${:.1f} \\times {:.1f} \\times {:.1f}\\,[\\eta r]$'.format(Lx/eta/r, Ly/eta/r, Lz/eta/r))\n",
    "Ls.append(r'${:.1f} \\times {:.1f} \\times {:.1f}\\,[H]$'.format(Lx, Ly, Lz))\n",
    "Np_tot = athinput['problem']['npx1']\\\n",
    "         *athinput['problem']['npx2']\\\n",
    "         *athinput['problem']['npx3']                  # tot. no. particles\n",
    "exp = np.log10(Np_tot)\n",
    "sig = Np_tot/10**int(exp)\n",
    "Nps.append(r'${:.1f}\\times10^{:.0f}$'.format(sig, exp))\n",
    "Nps.append(r'$n_p={:.0f}$'.format(Np_tot/Nx/Ny/Nz))    # avg. num. part./cell\n",
    "Omega = athinput['problem']['omega']                   # Keplerian ang. freq.\n",
    "T = 2*np.pi/Omega                                      # orbital period\n",
    "tlim = athinput['time']['tlim']\n",
    "tlims.append(r'${:.1f}\\,$'.format(tlim*Omega) + r'$\\Omega^{-1}$') # [1/Ω]\n",
    "tlims.append(r'${:.1f}\\,T$'.format(tlim))              # time limit / T\n",
    "epsilon = athinput['problem']['epsilon']\n",
    "epsilons.append(epsilon)                               # avg. BG dust/gas ρ\n",
    "epsilons.append(epsilon)\n",
    "tau_s = athinput['particles']['taus0']*Omega\n",
    "tau_ss.append(tau_s)                                   # stopping time\n",
    "tau_ss.append(tau_s)\n",
    "\n",
    "df = pd.DataFrame(\n",
    "    {\n",
    "        \"Units\": units,\n",
    "        r\"$\\eta,\\,\\Pi$\": Pis,\n",
    "        r\"$\\tau_s$\": tau_ss,\n",
    "        r\"$\\epsilon$\": epsilons,\n",
    "        r\"$L_x \\times L_y \\times L_z$\": Ls,\n",
    "        r\"$N_x \\times N_y \\times N_z$\": Ns,\n",
    "        r\"$N_p$\": Nps,\n",
    "        r\"$\\Delta t$\": tlims\n",
    "    }\n",
    ")\n",
    "df.style.format({\n",
    "    r\"$\\eta,\\,\\Pi$\": r\"${:.3f}$\",\n",
    "    r\"$\\tau_s$\": r\"${:.1f}$\",\n",
    "    r\"$\\epsilon$\": r\"${:.1f}$\",\n",
    "    r\"$\\Delta t\\,/\\,\\Omega^{-1}$\": r\"${:.0f}\\,$\",\n",
    "})"
   ]
  },
  {
   "cell_type": "markdown",
   "metadata": {
    "tags": []
   },
   "source": [
    "### Performance"
   ]
  },
  {
   "cell_type": "code",
   "execution_count": 3,
   "metadata": {
    "jupyter": {
     "source_hidden": true
    },
    "tags": []
   },
   "outputs": [
    {
     "data": {
      "text/html": [
       "<style type=\"text/css\">\n",
       "</style>\n",
       "<table id=\"T_f17ee_\">\n",
       "  <thead>\n",
       "    <tr>\n",
       "      <th class=\"blank level0\" >&nbsp;</th>\n",
       "      <th class=\"col_heading level0 col0\" >$t\\,/\\,T$</th>\n",
       "      <th class=\"col_heading level0 col1\" >Microarchitecture</th>\n",
       "      <th class=\"col_heading level0 col2\" >CPUs Requested</th>\n",
       "      <th class=\"col_heading level0 col3\" >MPI PEs</th>\n",
       "      <th class=\"col_heading level0 col4\" >CPU Time Used</th>\n",
       "      <th class=\"col_heading level0 col5\" >zone-cycles /cpu_second</th>\n",
       "      <th class=\"col_heading level0 col6\" >Walltime Used</th>\n",
       "    </tr>\n",
       "  </thead>\n",
       "  <tbody>\n",
       "    <tr>\n",
       "      <th id=\"T_f17ee_level0_row0\" class=\"row_heading level0 row0\" >0</th>\n",
       "      <td id=\"T_f17ee_row0_col0\" class=\"data row0 col0\" >0 - 80</td>\n",
       "      <td id=\"T_f17ee_row0_col1\" class=\"data row0 col1\" >Skylake</td>\n",
       "      <td id=\"T_f17ee_row0_col2\" class=\"data row0 col2\" >280</td>\n",
       "      <td id=\"T_f17ee_row0_col3\" class=\"data row0 col3\" >256</td>\n",
       "      <td id=\"T_f17ee_row0_col4\" class=\"data row0 col4\" >02:46:40</td>\n",
       "      <td id=\"T_f17ee_row0_col5\" class=\"data row0 col5\" >9.01e+06</td>\n",
       "      <td id=\"T_f17ee_row0_col6\" class=\"data row0 col6\" >04:24:39</td>\n",
       "    </tr>\n",
       "    <tr>\n",
       "      <th id=\"T_f17ee_level0_row1\" class=\"row_heading level0 row1\" >1</th>\n",
       "      <td id=\"T_f17ee_row1_col0\" class=\"data row1 col0\" >80 - 94</td>\n",
       "      <td id=\"T_f17ee_row1_col1\" class=\"data row1 col1\" >Skylake</td>\n",
       "      <td id=\"T_f17ee_row1_col2\" class=\"data row1 col2\" >280</td>\n",
       "      <td id=\"T_f17ee_row1_col3\" class=\"data row1 col3\" >256</td>\n",
       "      <td id=\"T_f17ee_row1_col4\" class=\"data row1 col4\" >00:00:00</td>\n",
       "      <td id=\"T_f17ee_row1_col5\" class=\"data row1 col5\" >0.00e+00</td>\n",
       "      <td id=\"T_f17ee_row1_col6\" class=\"data row1 col6\" >*00:38:45</td>\n",
       "    </tr>\n",
       "    <tr>\n",
       "      <th id=\"T_f17ee_level0_row2\" class=\"row_heading level0 row2\" >2</th>\n",
       "      <td id=\"T_f17ee_row2_col0\" class=\"data row2 col0\" >88 - 105</td>\n",
       "      <td id=\"T_f17ee_row2_col1\" class=\"data row2 col1\" >Skylake</td>\n",
       "      <td id=\"T_f17ee_row2_col2\" class=\"data row2 col2\" >280</td>\n",
       "      <td id=\"T_f17ee_row2_col3\" class=\"data row2 col3\" >256</td>\n",
       "      <td id=\"T_f17ee_row2_col4\" class=\"data row2 col4\" >03:45:48</td>\n",
       "      <td id=\"T_f17ee_row2_col5\" class=\"data row2 col5\" >1.58e+06</td>\n",
       "      <td id=\"T_f17ee_row2_col6\" class=\"data row2 col6\" >07:01:41</td>\n",
       "    </tr>\n",
       "    <tr>\n",
       "      <th id=\"T_f17ee_level0_row3\" class=\"row_heading level0 row3\" >3</th>\n",
       "      <td id=\"T_f17ee_row3_col0\" class=\"data row3 col0\" >105 - 135</td>\n",
       "      <td id=\"T_f17ee_row3_col1\" class=\"data row3 col1\" >Skylake</td>\n",
       "      <td id=\"T_f17ee_row3_col2\" class=\"data row3 col2\" >280</td>\n",
       "      <td id=\"T_f17ee_row3_col3\" class=\"data row3 col3\" >256</td>\n",
       "      <td id=\"T_f17ee_row3_col4\" class=\"data row3 col4\" >00:00:00</td>\n",
       "      <td id=\"T_f17ee_row3_col5\" class=\"data row3 col5\" >0.00e+00</td>\n",
       "      <td id=\"T_f17ee_row3_col6\" class=\"data row3 col6\" >*120:01:49</td>\n",
       "    </tr>\n",
       "  </tbody>\n",
       "</table>\n"
      ],
      "text/plain": [
       "<pandas.io.formats.style.Styler at 0x7f8d94457490>"
      ]
     },
     "execution_count": 3,
     "metadata": {},
     "output_type": "execute_result"
    }
   ],
   "source": [
    "# Collect HDF5 outputs\n",
    "outputs = sorted(list(Path('../../athdf').glob(athinput['job']['problem_id'] +\n",
    "                                            '.out2.*.athdf')))\n",
    "# Get history output\n",
    "hst = athena_read.hst('output/SI.hst')\n",
    "\n",
    "runtime = 1.0000262170000000e+04\n",
    "hh = runtime//3600\n",
    "mm = runtime%3600//60\n",
    "ss = runtime%60\n",
    "runtime2 = 0\n",
    "hh2 = runtime2//3600\n",
    "mm2 = runtime2%3600//60\n",
    "ss2 = runtime2%60\n",
    "runtime3 = 1.3548058073000000e+04\n",
    "hh3 = runtime3//3600\n",
    "mm3 = runtime3%3600//60\n",
    "ss3 = runtime3%60\n",
    "runtime4 = 0\n",
    "hh4 = runtime4//3600\n",
    "mm4 = runtime4%3600//60\n",
    "ss4 = runtime4%60\n",
    "\n",
    "ts = ['0 - 80', '80 - 94', '88 - 105', '105 - 135']\n",
    "march = ['Skylake', 'Skylake', 'Skylake', 'Skylake']\n",
    "ncpus = [280, 280, 280, 280]\n",
    "pes = [256, 256, 256, 256]\n",
    "cputime = ['%02d:%02d:%02d'%(hh, mm, ss), '%02d:%02d:%02d'%(hh2, mm2, ss2),\n",
    "           '%02d:%02d:%02d'%(hh3, mm3, ss3), '%02d:%02d:%02d'%(hh4, mm4, ss4)]\n",
    "zcs = [9.0055375210228115e+06, 0, 1.5810419669434496e+06, 0]\n",
    "wt = ['04:24:39', '*00:38:45', '07:01:41', '*120:01:49']\n",
    "\n",
    "df = pd.DataFrame(\n",
    "    {\n",
    "        r\"$t\\,/\\,T$\": ts,\n",
    "        \"Microarchitecture\": march,\n",
    "        \"CPUs Requested\": ncpus,\n",
    "        \"MPI PEs\": pes,\n",
    "        \"CPU Time Used\": cputime,\n",
    "        \"zone-cycles /cpu_second\": zcs,\n",
    "        \"Walltime Used\": wt,\n",
    "    }\n",
    ")\n",
    "df.style.format({\n",
    "    \"zone-cycles /cpu_second\": \"{:.2e}\",\n",
    "})"
   ]
  },
  {
   "cell_type": "markdown",
   "metadata": {
    "tags": []
   },
   "source": [
    "## Dust Density Amplitude"
   ]
  },
  {
   "cell_type": "code",
   "execution_count": 4,
   "metadata": {
    "jupyter": {
     "source_hidden": true
    },
    "tags": []
   },
   "outputs": [
    {
     "data": {
      "image/png": "[encoded data removed]",
      "text/plain": [
       "<Figure size 600x400 with 1 Axes>"
      ]
     },
     "metadata": {
      "needs_background": "light"
     },
     "output_type": "display_data"
    }
   ],
   "source": [
    "times = hst['time']\n",
    "dts = hst['dt']\n",
    "rhop_amps = np.sqrt(hst['drhop2'] - hst['drhop']**2) / c_s # dust dens. amp.\n",
    "\n",
    "# Plot\n",
    "fig, ax = plt.subplots(dpi=100)\n",
    "ax.set_title(r'$\\tau_s={:.1f},\\,\\epsilon={:.1f}$'\n",
    "             .format(tau_s, epsilon), size='x-large')\n",
    "ax.set_ylabel(r'$\\rho_p$ Amplitude', size='large')\n",
    "ax.set_xlabel(r'$t$ / $T$', size='large')\n",
    "ax.semilogy(times, rhop_amps)\n",
    "ax.grid()"
   ]
  },
  {
   "cell_type": "markdown",
   "metadata": {
    "tags": []
   },
   "source": [
    "## Maximum Particle Density Evolution"
   ]
  },
  {
   "cell_type": "code",
   "execution_count": 5,
   "metadata": {
    "jupyter": {
     "source_hidden": true
    },
    "tags": []
   },
   "outputs": [
    {
     "data": {
      "image/png": "[encoded data removed]",
      "text/plain": [
       "<Figure size 600x400 with 1 Axes>"
      ]
     },
     "metadata": {
      "needs_background": "light"
     },
     "output_type": "display_data"
    }
   ],
   "source": [
    "import matplotlib.pyplot as plt\n",
    "import numpy as np\n",
    "\n",
    "# Load NAS results\n",
    "data = np.load('output/growth.npz')\n",
    "\n",
    "# Plot\n",
    "fig, ax = plt.subplots(dpi=100)\n",
    "ax.set_title(r'$\\tau_s={:.1f},\\,\\epsilon={:.1f}$'\n",
    "             .format(tau_s, epsilon), size='x-large')\n",
    "ax.set_ylabel(r'$\\rho_{p,max}$ / $\\rho_{g0}$', size='large')\n",
    "ax.set_xlabel(r'$t$ / $T$', size='large')\n",
    "ax.semilogy(data['times'], data['rhopmax'])\n",
    "ax.grid()"
   ]
  },
  {
   "cell_type": "markdown",
   "metadata": {},
   "source": [
    "**NOTE**: We define $t_\\textrm{sat} = \\#\\,T$ in the calculations and plots below."
   ]
  },
  {
   "cell_type": "code",
   "execution_count": 6,
   "metadata": {},
   "outputs": [],
   "source": [
    "t_sat = 80 # T"
   ]
  },
  {
   "cell_type": "markdown",
   "metadata": {
    "tags": []
   },
   "source": [
    "## Mean Particle Velocities"
   ]
  },
  {
   "cell_type": "code",
   "execution_count": 7,
   "metadata": {
    "jupyter": {
     "source_hidden": true
    },
    "tags": []
   },
   "outputs": [
    {
     "data": {
      "text/html": [
       "<style type=\"text/css\">\n",
       "</style>\n",
       "<table id=\"T_abec8_\">\n",
       "  <thead>\n",
       "    <tr>\n",
       "      <th class=\"blank level0\" >&nbsp;</th>\n",
       "      <th class=\"col_heading level0 col0\" >$\\overline{v_x}$</th>\n",
       "      <th class=\"col_heading level0 col1\" >$\\overline{v_y}$</th>\n",
       "      <th class=\"col_heading level0 col2\" >$\\overline{v_z}$</th>\n",
       "    </tr>\n",
       "  </thead>\n",
       "  <tbody>\n",
       "    <tr>\n",
       "      <th id=\"T_abec8_level0_row0\" class=\"row_heading level0 row0\" >0</th>\n",
       "      <td id=\"T_abec8_row0_col0\" class=\"data row0 col0\" >-0.363</td>\n",
       "      <td id=\"T_abec8_row0_col1\" class=\"data row0 col1\" >-0.270</td>\n",
       "      <td id=\"T_abec8_row0_col2\" class=\"data row0 col2\" >0.076</td>\n",
       "    </tr>\n",
       "  </tbody>\n",
       "</table>\n"
      ],
      "text/plain": [
       "<pandas.io.formats.style.Styler at 0x7f8d67394490>"
      ]
     },
     "execution_count": 7,
     "metadata": {},
     "output_type": "execute_result"
    }
   ],
   "source": [
    "# Time-averaged velocities over saturated state\n",
    "i_sat = int(t_sat / dt_hst) # output index of sat. state\n",
    "avg_vp1s = np.average(hst['vp1'][i_sat:])/etav_K/Np_tot\n",
    "avg_vp2s = np.average(hst['vp2'][i_sat:])/etav_K/Np_tot\n",
    "avg_vp3s = np.average(hst['vp3'][i_sat:])/etav_K/Np_tot\n",
    "\n",
    "df = pd.DataFrame(\n",
    "    {\n",
    "        r\"$\\overline{v_x}$\": [avg_vp1s],\n",
    "        r\"$\\overline{v_y}$\": [avg_vp3s],\n",
    "        r\"$\\overline{v_z}$\": [avg_vp2s],\n",
    "    }\n",
    ")\n",
    "df.style.format({\n",
    "    r\"$\\overline{v_x}$\": \"{:.3f}\",\n",
    "    \"% diff (JY07)\": \"{:.1f}\",\n",
    "    r\"$\\overline{v_y}$\": \"{:.3f}\",\n",
    "    r\"$\\overline{v_z}$\": \"{:.3f}\",\n",
    "})"
   ]
  },
  {
   "cell_type": "markdown",
   "metadata": {
    "tags": []
   },
   "source": [
    "## Cumulative Particle Density Distribution"
   ]
  },
  {
   "cell_type": "code",
   "execution_count": 8,
   "metadata": {
    "jupyter": {
     "source_hidden": true
    },
    "tags": []
   },
   "outputs": [
    {
     "data": {
      "image/png": "[encoded data removed]",
      "text/plain": [
       "<Figure size 600x400 with 1 Axes>"
      ]
     },
     "metadata": {
      "needs_background": "light"
     },
     "output_type": "display_data"
    }
   ],
   "source": [
    "# Load NAS results\n",
    "data = np.load('output/cpdd.npz')\n",
    "cdf = data['cdf']\n",
    "mins = data['mins']\n",
    "maxs = data['maxs']\n",
    "avgs = data['avgs']\n",
    "stds = data['stds']\n",
    "\n",
    "# CPDD\n",
    "fig, ax = plt.subplots(dpi=100)\n",
    "ax.set_title(r'$\\tau_s={:.1f},\\,\\epsilon={:.1f}$'\n",
    "             .format(tau_s, epsilon), size='x-large')\n",
    "ax.set_xlabel(r'$\\rho_p$ / $\\langle \\rho_p \\rangle$', size='large')\n",
    "ax.set_ylabel(r'P$(>\\rho_p)$', size='large')\n",
    "ax.loglog(avgs, cdf, label=r'$\\mu$')\n",
    "ax.fill_betweenx(cdf, mins, maxs, alpha=0.2, label='[min., max.]')\n",
    "ax.fill_betweenx(cdf, avgs/stds, avgs*stds, alpha=0.4,\n",
    "                 label=r'$[\\sigma^{-1}\\mu,\\,\\sigma\\mu]$')\n",
    "ax.set(xlim=(0.1, 1000), ylim=(1e-5, 1))\n",
    "ax.legend(loc='lower left')\n",
    "ax.grid()"
   ]
  },
  {
   "cell_type": "markdown",
   "metadata": {},
   "source": [
    "**NOTE**:\n",
    "- We compute the statistical values over the time-varying saturated state defined [above](#Maximum-Particle-Density-Evolution).\n",
    "- We calculate the standard deviation, $\\sigma$, in logarithmic space."
   ]
  },
  {
   "cell_type": "markdown",
   "metadata": {
    "tags": []
   },
   "source": [
    "## Particle Density Animation"
   ]
  },
  {
   "cell_type": "code",
   "execution_count": 9,
   "metadata": {
    "jupyter": {
     "source_hidden": true
    },
    "tags": []
   },
   "outputs": [
    {
     "data": {
      "text/html": [
       "\n",
       "        <iframe\n",
       "            width=\"560\"\n",
       "            height=\"315\"\n",
       "            src=\"https://www.youtube.com/embed/4C74QXTWBnQ\"\n",
       "            frameborder=\"0\"\n",
       "            allowfullscreen\n",
       "        ></iframe>\n",
       "        "
      ],
      "text/plain": [
       "<IPython.lib.display.IFrame at 0x7f8d6739a1f0>"
      ]
     },
     "execution_count": 9,
     "metadata": {},
     "output_type": "execute_result"
    }
   ],
   "source": [
    "IFrame('https://www.youtube.com/embed/4C74QXTWBnQ', 560, 315)"
   ]
  },
  {
   "cell_type": "markdown",
   "metadata": {
    "tags": []
   },
   "source": [
    "## Tasks"
   ]
  },
  {
   "cell_type": "markdown",
   "metadata": {},
   "source": [
    "- [x] Configure `athinput.si` with converted JY07 run [parameters](#Parameters)\n",
    "- [x] Run simulation: `qsub run.pbs`\n",
    "- [x] Run `growth.py`\n",
    "- [x] Transfer from NAS, `sup shiftc -r ../output/`:\n",
    "- [x] Record runtime performance\n",
    "- [x] Calc mean dust velocities w/ `i_sat`\n",
    "- [x] `cpdd.py`:\n",
    "  - [x] Set `t_sat` then run; \n",
    "  - [x] Re-transfer `output/`\n",
    "- [x] Particle density animation:\n",
    "  - [x] `mov.py`: Set `vmin` and `vmax` from `growth.pdf` then run\n",
    "  - [x] Transfer `rhop.mp4` from NAS\n",
    "  - [x] Upload to YouTube\n",
    "  - [x] Embed in [Particle Density Animation](#Particle-Density-Animation)"
   ]
  }
 ],
 "metadata": {
  "kernelspec": {
   "display_name": "Athena++",
   "language": "python",
   "name": "athena"
  },
  "language_info": {
   "codemirror_mode": {
    "name": "ipython",
    "version": 3
   },
   "file_extension": ".py",
   "mimetype": "text/x-python",
   "name": "python",
   "nbconvert_exporter": "python",
   "pygments_lexer": "ipython3",
   "version": "3.9.6"
  },
  "widgets": {
   "application/vnd.jupyter.widget-state+json": {
    "state": {},
    "version_major": 2,
    "version_minor": 0
   }
  }
 },
 "nbformat": 4,
 "nbformat_minor": 4
}
