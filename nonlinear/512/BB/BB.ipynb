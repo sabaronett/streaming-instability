{
 "cells": [
  {
   "cell_type": "markdown",
   "metadata": {
    "tags": []
   },
   "source": [
    "# BB Run\n",
    "|Author| Stanley A. Baronett|\n",
    "|--|-------------------------------|\n",
    "|Created | 8/9/2021|\n",
    "|Updated | 8/20/2021|"
   ]
  },
  {
   "cell_type": "markdown",
   "metadata": {
    "tags": []
   },
   "source": [
    "## Introduction"
   ]
  },
  {
   "cell_type": "code",
   "execution_count": 1,
   "metadata": {
    "jupyter": {
     "source_hidden": true
    },
    "tags": []
   },
   "outputs": [],
   "source": [
    "import sys\n",
    "sys.path.insert(0, '/home/stanley/github/sabaronett/local/athena/athena-dust/vis/python')\n",
    "import athena_read\n",
    "import matplotlib.pyplot as plt\n",
    "import numpy as np\n",
    "import pandas as pd\n",
    "from pathlib import Path"
   ]
  },
  {
   "cell_type": "markdown",
   "metadata": {
    "tags": []
   },
   "source": [
    "### Parameters"
   ]
  },
  {
   "cell_type": "code",
   "execution_count": 2,
   "metadata": {
    "jupyter": {
     "source_hidden": true
    },
    "tags": []
   },
   "outputs": [
    {
     "data": {
      "text/html": [
       "<style type=\"text/css\">\n",
       "</style>\n",
       "<table id=\"T_8bf55_\">\n",
       "  <thead>\n",
       "    <tr>\n",
       "      <th class=\"blank level0\" >&nbsp;</th>\n",
       "      <th class=\"col_heading level0 col0\" >Units</th>\n",
       "      <th class=\"col_heading level0 col1\" >$\\tau_s$</th>\n",
       "      <th class=\"col_heading level0 col2\" >$\\epsilon$</th>\n",
       "      <th class=\"col_heading level0 col3\" >$L_x \\times L_y \\times L_z$</th>\n",
       "      <th class=\"col_heading level0 col4\" >$N_x \\times N_y \\times N_z$</th>\n",
       "      <th class=\"col_heading level0 col5\" >$N_p$</th>\n",
       "      <th class=\"col_heading level0 col6\" >$\\Delta t$</th>\n",
       "    </tr>\n",
       "  </thead>\n",
       "  <tbody>\n",
       "    <tr>\n",
       "      <th id=\"T_8bf55_level0_row0\" class=\"row_heading level0 row0\" >0</th>\n",
       "      <td id=\"T_8bf55_row0_col0\" class=\"data row0 col0\" >JY07</td>\n",
       "      <td id=\"T_8bf55_row0_col1\" class=\"data row0 col1\" >$1.0$</td>\n",
       "      <td id=\"T_8bf55_row0_col2\" class=\"data row0 col2\" >$1.0$</td>\n",
       "      <td id=\"T_8bf55_row0_col3\" class=\"data row0 col3\" >$20.0 \\times 20.0 \\times 20.0\\,[\\eta r]$</td>\n",
       "      <td id=\"T_8bf55_row0_col4\" class=\"data row0 col4\" >$512 \\times 1 \\times 512$</td>\n",
       "      <td id=\"T_8bf55_row0_col5\" class=\"data row0 col5\" >$1.0\\times10^6$</td>\n",
       "      <td id=\"T_8bf55_row0_col6\" class=\"data row0 col6\" >$251.3\\,$$\\Omega^{-1}$</td>\n",
       "    </tr>\n",
       "    <tr>\n",
       "      <th id=\"T_8bf55_level0_row1\" class=\"row_heading level0 row1\" >1</th>\n",
       "      <td id=\"T_8bf55_row1_col0\" class=\"data row1 col0\" >Code</td>\n",
       "      <td id=\"T_8bf55_row1_col1\" class=\"data row1 col1\" >$1.0$</td>\n",
       "      <td id=\"T_8bf55_row1_col2\" class=\"data row1 col2\" >$1.0$</td>\n",
       "      <td id=\"T_8bf55_row1_col3\" class=\"data row1 col3\" >$1.0 \\times 1.0 \\times 1.0\\,[H]$</td>\n",
       "      <td id=\"T_8bf55_row1_col4\" class=\"data row1 col4\" >$512 \\times 1 \\times 512$</td>\n",
       "      <td id=\"T_8bf55_row1_col5\" class=\"data row1 col5\" >$n_p=4$</td>\n",
       "      <td id=\"T_8bf55_row1_col6\" class=\"data row1 col6\" >$40.0\\,T$</td>\n",
       "    </tr>\n",
       "  </tbody>\n",
       "</table>\n"
      ],
      "text/plain": [
       "<pandas.io.formats.style.Styler at 0x7f0dc4a65580>"
      ]
     },
     "execution_count": 2,
     "metadata": {},
     "output_type": "execute_result"
    }
   ],
   "source": [
    "units = ['JY07', 'Code']\n",
    "tau_ss, epsilons, Ls, Ns, Nps, tlims = [], [], [], [], [], []\n",
    "etar = 0.05 # [H]\n",
    "\n",
    "athinput = athena_read.athinput('athinput.si')\n",
    "Nx = athinput['mesh']['nx1']                           # Radial x zones\n",
    "Ny = athinput['mesh']['nx3']                           # Azimuthal y zones\n",
    "Nz = athinput['mesh']['nx2']                           # Vertical z zones\n",
    "Ns.append(r'${:.0f} \\times {:.0f} \\times {:.0f}$'.format(Nx, Ny, Nz))\n",
    "Ns.append(Ns[0])\n",
    "Lx = (athinput['mesh']['x1max'] - athinput['mesh']['x1min'])\n",
    "Ly = (athinput['mesh']['x3max'] - athinput['mesh']['x3min'])\n",
    "Lz = (athinput['mesh']['x2max'] - athinput['mesh']['x2min'])\n",
    "Ls.append(r'${:.1f} \\times {:.1f} \\times {:.1f}\\,[\\eta r]$'.format(Lx/etar, Ly/etar, Lz/etar))\n",
    "Ls.append(r'${:.1f} \\times {:.1f} \\times {:.1f}\\,[H]$'.format(Lx, Ly, Lz))\n",
    "Np_tot = athinput['problem']['npx1']\\\n",
    "         *athinput['problem']['npx2']\\\n",
    "         *athinput['problem']['npx3']                  # total number of particles\n",
    "exp = np.log10(Np_tot)\n",
    "sig = Np_tot/10**int(exp)\n",
    "Nps.append(r'${:.1f}\\times10^{:.0f}$'.format(sig, exp))\n",
    "Nps.append(r'$n_p={:.0f}$'.format(Np_tot/Nx/Ny/Nz))    # avg. num. particles / cell\n",
    "Omega = athinput['problem']['omega']                   # local Keplerian ang. freq.\n",
    "tlim = athinput['time']['tlim']\n",
    "tlims.append(r'${:.1f}\\,$'.format(tlim*Omega) + r'$\\Omega^{-1}$') # time limit [1/Ω]\n",
    "tlims.append(r'${:.1f}\\,T$'.format(tlim))              # time limit / T\n",
    "epsilons.append(athinput['problem']['epsilon'])        # avg. BG dust/gas ρ-ratio\n",
    "epsilons.append(epsilons[0])\n",
    "tau_ss.append(athinput['particles']['taus0']*Omega)    # dimensionless stopping time\n",
    "tau_ss.append(tau_ss[0])\n",
    "\n",
    "df = pd.DataFrame(\n",
    "    {\n",
    "        \"Units\": units,\n",
    "        r\"$\\tau_s$\": tau_ss,\n",
    "        r\"$\\epsilon$\": epsilons,\n",
    "        r\"$L_x \\times L_y \\times L_z$\": Ls,\n",
    "        r\"$N_x \\times N_y \\times N_z$\": Ns,\n",
    "        r\"$N_p$\": Nps,\n",
    "        r\"$\\Delta t$\": tlims\n",
    "    }\n",
    ")\n",
    "df.style.format({\n",
    "    r\"$\\tau_s$\": r\"${:.1f}$\",\n",
    "    r\"$\\epsilon$\": r\"${:.1f}$\",\n",
    "    r\"$\\Delta t\\,/\\,\\Omega^{-1}$\": r\"${:.0f}\\,$\",\n",
    "})"
   ]
  },
  {
   "cell_type": "markdown",
   "metadata": {
    "tags": []
   },
   "source": [
    "### Performance"
   ]
  },
  {
   "cell_type": "code",
   "execution_count": 3,
   "metadata": {
    "jupyter": {
     "source_hidden": true
    },
    "tags": []
   },
   "outputs": [
    {
     "data": {
      "text/html": [
       "<style type=\"text/css\">\n",
       "</style>\n",
       "<table id=\"T_ee8a1_\">\n",
       "  <thead>\n",
       "    <tr>\n",
       "      <th class=\"blank level0\" >&nbsp;</th>\n",
       "      <th class=\"col_heading level0 col0\" >Microarchitecture</th>\n",
       "      <th class=\"col_heading level0 col1\" >CPUs Requested</th>\n",
       "      <th class=\"col_heading level0 col2\" >MPI PEs</th>\n",
       "      <th class=\"col_heading level0 col3\" >CPU Time Used</th>\n",
       "      <th class=\"col_heading level0 col4\" >zone-cycles /cpu_second</th>\n",
       "      <th class=\"col_heading level0 col5\" >Walltime Used</th>\n",
       "    </tr>\n",
       "  </thead>\n",
       "  <tbody>\n",
       "    <tr>\n",
       "      <th id=\"T_ee8a1_level0_row0\" class=\"row_heading level0 row0\" >0</th>\n",
       "      <td id=\"T_ee8a1_row0_col0\" class=\"data row0 col0\" >Broadwell</td>\n",
       "      <td id=\"T_ee8a1_row0_col1\" class=\"data row0 col1\" >280</td>\n",
       "      <td id=\"T_ee8a1_row0_col2\" class=\"data row0 col2\" >256</td>\n",
       "      <td id=\"T_ee8a1_row0_col3\" class=\"data row0 col3\" >11:17:03</td>\n",
       "      <td id=\"T_ee8a1_row0_col4\" class=\"data row0 col4\" >2.37e+06</td>\n",
       "      <td id=\"T_ee8a1_row0_col5\" class=\"data row0 col5\" >17:34:11</td>\n",
       "    </tr>\n",
       "  </tbody>\n",
       "</table>\n"
      ],
      "text/plain": [
       "<pandas.io.formats.style.Styler at 0x7f0d9a5ec850>"
      ]
     },
     "execution_count": 3,
     "metadata": {},
     "output_type": "execute_result"
    }
   ],
   "source": [
    "runtime = 1.3040414903000001e+04 + 2.7583074829000001e+04\n",
    "hh = runtime//3600\n",
    "mm = runtime%3600//60\n",
    "ss = runtime%60\n",
    "\n",
    "march = ['Broadwell']\n",
    "ncpus = [280]\n",
    "pes = [256]\n",
    "cputime = ['%02d:%02d:%02d'%(hh, mm, ss)]\n",
    "t1 = 7.5601153296860586e+00\n",
    "w1 = 1.2629149285895233e+06*t1\n",
    "w2 = 2.6219080783540732e+06*(tlim-t1)\n",
    "zcs = [(w1+w2)/tlim]\n",
    "wt = '17:34:11'\n",
    "\n",
    "df = pd.DataFrame(\n",
    "    {\n",
    "        \"Microarchitecture\": march,\n",
    "        \"CPUs Requested\": ncpus,\n",
    "        \"MPI PEs\": pes,\n",
    "        \"CPU Time Used\": cputime,\n",
    "        \"zone-cycles /cpu_second\": zcs,\n",
    "        \"Walltime Used\": wt,\n",
    "    }\n",
    ")\n",
    "df.style.format({\n",
    "    \"zone-cycles /cpu_second\": \"{:.2e}\",\n",
    "})"
   ]
  },
  {
   "cell_type": "markdown",
   "metadata": {
    "tags": []
   },
   "source": [
    "### Preliminary"
   ]
  },
  {
   "cell_type": "code",
   "execution_count": 4,
   "metadata": {
    "jupyter": {
     "source_hidden": true
    },
    "tags": []
   },
   "outputs": [],
   "source": [
    "import sys\n",
    "sys.path.insert(0, '/home/stanley/github/sabaronett/local/athena/athena-dust/vis/python')\n",
    "import athena_read\n",
    "from IPython.display import IFrame\n",
    "import matplotlib.pyplot as plt\n",
    "import numpy as np\n",
    "import pandas as pd\n",
    "from pathlib import Path\n",
    "\n",
    "# Get input parameters\n",
    "athinput = athena_read.athinput('athinput.si')\n",
    "tlim = athinput['time']['tlim']              # time limit / T\n",
    "c_s = athinput['hydro']['iso_sound_speed']   # sound speed\n",
    "Np_tot = athinput['problem']['npx1']\\\n",
    "         *athinput['problem']['npx2']\\\n",
    "         *athinput['problem']['npx3']        # total number of particles\n",
    "Omega = athinput['problem']['omega']         # local Keplerian ang. freq.\n",
    "epsilon = athinput['problem']['epsilon']     # avg. BG dust/gas ρ-ratio\n",
    "Pi = athinput['problem']['duy0']             # global rad. press. grad.\n",
    "tau_s = athinput['particles']['taus0']*Omega # dimensionless stopping time\n",
    "T = 2*np.pi/Omega                            # orbital period\n",
    "etav_K = Pi*c_s                              # velocity (JY07)\n",
    "\n",
    "# Collect HDF5 outputs\n",
    "outputs = sorted(list(Path('../athdf').glob(athinput['job']['problem_id'] +\n",
    "                                            '.out2.*.athdf')))\n",
    "\n",
    "# Get history output\n",
    "hst = athena_read.hst('SI.hst')"
   ]
  },
  {
   "cell_type": "markdown",
   "metadata": {
    "tags": []
   },
   "source": [
    "## Particle Density Animation"
   ]
  },
  {
   "cell_type": "code",
   "execution_count": 5,
   "metadata": {
    "tags": []
   },
   "outputs": [
    {
     "data": {
      "text/html": [
       "\n",
       "        <iframe\n",
       "            width=\"560\"\n",
       "            height=\"315\"\n",
       "            src=\"https://www.youtube.com/embed/ojT9AIT7G8E\"\n",
       "            frameborder=\"0\"\n",
       "            allowfullscreen\n",
       "        ></iframe>\n",
       "        "
      ],
      "text/plain": [
       "<IPython.lib.display.IFrame at 0x7f0d9a432970>"
      ]
     },
     "execution_count": 5,
     "metadata": {},
     "output_type": "execute_result"
    }
   ],
   "source": [
    "IFrame('https://www.youtube.com/embed/ojT9AIT7G8E', 560, 315)"
   ]
  },
  {
   "cell_type": "markdown",
   "metadata": {
    "tags": []
   },
   "source": [
    "## Maximum Particle Density Evolution"
   ]
  },
  {
   "cell_type": "code",
   "execution_count": 6,
   "metadata": {
    "jupyter": {
     "source_hidden": true
    },
    "tags": []
   },
   "outputs": [
    {
     "data": {
      "image/png": "[encoded data removed]",
      "text/plain": [
       "<Figure size 600x400 with 1 Axes>"
      ]
     },
     "metadata": {
      "needs_background": "light"
     },
     "output_type": "display_data"
    }
   ],
   "source": [
    "import matplotlib.pyplot as plt\n",
    "import numpy as np\n",
    "\n",
    "# Load NAS results\n",
    "data = np.loadtxt('plots/growth.txt')\n",
    "times = data[:, 0]\n",
    "rhopmax = data[:, 1]\n",
    "\n",
    "# Plot\n",
    "fig, ax = plt.subplots(dpi=100)\n",
    "ax.set_title(r'$\\tau_s={:.1f},\\,\\epsilon={:.1f}$'\n",
    "             .format(tau_s, epsilon), size='x-large')\n",
    "ax.set_ylabel(r'$\\rho_{p,max}$ / $\\rho_{g0}$', size='large')\n",
    "ax.set_xlabel(r'$t$ / $T$', size='large')\n",
    "ax.semilogy(times, rhopmax)\n",
    "ax.grid()"
   ]
  },
  {
   "cell_type": "markdown",
   "metadata": {},
   "source": [
    "**NOTE**: We define $t_\\textrm{sat} = \\#\\,T$ in the calculations and plots below."
   ]
  },
  {
   "cell_type": "code",
   "execution_count": 7,
   "metadata": {},
   "outputs": [],
   "source": [
    "t_sat = 10 # T"
   ]
  },
  {
   "cell_type": "markdown",
   "metadata": {
    "tags": []
   },
   "source": [
    "## Cumulative Particle Density Distribution"
   ]
  },
  {
   "cell_type": "code",
   "execution_count": 8,
   "metadata": {
    "jupyter": {
     "source_hidden": true
    },
    "tags": []
   },
   "outputs": [
    {
     "data": {
      "image/png": "[encoded data removed]",
      "text/plain": [
       "<Figure size 600x400 with 1 Axes>"
      ]
     },
     "metadata": {
      "needs_background": "light"
     },
     "output_type": "display_data"
    }
   ],
   "source": [
    "# Load NAS results\n",
    "data = np.loadtxt('plots/cpdd_min.txt')\n",
    "cdf = data[:, 1]\n",
    "min_rhops = data[:, 0]\n",
    "data = np.loadtxt('plots/cpdd_max.txt')\n",
    "max_rhops = data[:, 0]\n",
    "data = np.loadtxt('plots/cpdd_avg.txt')\n",
    "avg_rhops = data[:, 0]\n",
    "data = np.loadtxt('plots/cpdd_std.txt')\n",
    "std_rhops = data[:, 0]\n",
    "\n",
    "# CPDD\n",
    "fig, ax = plt.subplots(dpi=100)\n",
    "ax.set_title(r'$\\tau_s={:.1f},\\,\\epsilon={:.1f}$'\n",
    "             .format(tau_s, epsilon), size='x-large')\n",
    "ax.set_xlabel(r'$\\rho_p$ / $\\langle \\rho_p \\rangle$', size='large')\n",
    "ax.set_ylabel(r'P$(>\\rho_p)$', size='large')\n",
    "ax.loglog(avg_rhops, cdf, label=r'$\\mu$')\n",
    "ax.fill_betweenx(cdf, min_rhops, max_rhops, alpha=0.2, label='[min., max.]')\n",
    "ax.fill_betweenx(cdf, avg_rhops/std_rhops, avg_rhops*std_rhops, alpha=0.4,\n",
    "                 label=r'$[\\sigma^{-1}\\mu,\\,\\sigma\\mu]$')\n",
    "ax.set_xlim(0.1, 1000)\n",
    "ax.set_ylim(1e-5, 1)\n",
    "ax.legend(loc='lower left')\n",
    "ax.grid()"
   ]
  },
  {
   "cell_type": "markdown",
   "metadata": {},
   "source": [
    "**NOTE**:\n",
    "- We compute the statistical values over the time-varying saturated state defined [above](#Maximum-Particle-Density-Evolution).\n",
    "- We calculate the standard deviation, $\\sigma$, in logarithmic space."
   ]
  },
  {
   "cell_type": "markdown",
   "metadata": {
    "tags": []
   },
   "source": [
    "## Mean Particle Velocities"
   ]
  },
  {
   "cell_type": "code",
   "execution_count": 9,
   "metadata": {
    "jupyter": {
     "source_hidden": true
    },
    "tags": []
   },
   "outputs": [
    {
     "data": {
      "text/html": [
       "<style type=\"text/css\">\n",
       "</style>\n",
       "<table id=\"T_8d39d_\">\n",
       "  <thead>\n",
       "    <tr>\n",
       "      <th class=\"blank level0\" >&nbsp;</th>\n",
       "      <th class=\"col_heading level0 col0\" >Run</th>\n",
       "      <th class=\"col_heading level0 col1\" >$\\overline{v_x}$</th>\n",
       "      <th class=\"col_heading level0 col2\" >% diff (JY07)</th>\n",
       "      <th class=\"col_heading level0 col3\" >$\\overline{v_y}$</th>\n",
       "      <th class=\"col_heading level0 col4\" >$\\overline{v_z}$</th>\n",
       "    </tr>\n",
       "  </thead>\n",
       "  <tbody>\n",
       "    <tr>\n",
       "      <th id=\"T_8d39d_level0_row0\" class=\"row_heading level0 row0\" >0</th>\n",
       "      <td id=\"T_8d39d_row0_col0\" class=\"data row0 col0\" >BA</td>\n",
       "      <td id=\"T_8d39d_row0_col1\" class=\"data row0 col1\" >-0.349</td>\n",
       "      <td id=\"T_8d39d_row0_col2\" class=\"data row0 col2\" >2.3</td>\n",
       "      <td id=\"T_8d39d_row0_col3\" class=\"data row0 col3\" >-0.320</td>\n",
       "      <td id=\"T_8d39d_row0_col4\" class=\"data row0 col4\" >-0.001</td>\n",
       "    </tr>\n",
       "  </tbody>\n",
       "</table>\n"
      ],
      "text/plain": [
       "<pandas.io.formats.style.Styler at 0x7f0d97882520>"
      ]
     },
     "execution_count": 9,
     "metadata": {},
     "output_type": "execute_result"
    }
   ],
   "source": [
    "# Time-averaged velocities over saturated state\n",
    "ref_vx = -0.341                      # [𝜂𝑣ₖ] (JY07, Table 2)\n",
    "i_sat = hst['time'].size*t_sat//tlim # saturation output start\n",
    "avg_vp1s = np.average(hst['vp1'][i_sat:])/etav_K/Np_tot\n",
    "avg_vp2s = np.average(hst['vp2'][i_sat:])/etav_K/Np_tot\n",
    "avg_vp3s = np.average(hst['vp3'][i_sat:])/etav_K/Np_tot\n",
    "ref_diff = 100*2*np.abs((avg_vp1s - ref_vx) / (avg_vp1s + ref_vx))\n",
    "\n",
    "df = pd.DataFrame(\n",
    "    {\n",
    "        \"Run\": [\"BA\"],\n",
    "        r\"$\\overline{v_x}$\": [avg_vp1s],\n",
    "        \"% diff (JY07)\": [ref_diff],\n",
    "        r\"$\\overline{v_y}$\": [avg_vp3s],\n",
    "        r\"$\\overline{v_z}$\": [avg_vp2s],\n",
    "    }\n",
    ")\n",
    "df.style.format({\n",
    "    r\"$\\overline{v_x}$\": \"{:.3f}\",\n",
    "    \"% diff (JY07)\": \"{:.1f}\",\n",
    "    r\"$\\overline{v_y}$\": \"{:.3f}\",\n",
    "    r\"$\\overline{v_z}$\": \"{:.3f}\",\n",
    "})"
   ]
  },
  {
   "cell_type": "markdown",
   "metadata": {
    "tags": []
   },
   "source": [
    "## Tasks"
   ]
  },
  {
   "cell_type": "markdown",
   "metadata": {},
   "source": [
    "- [x] Configure `athinput.si` with converted JY07 run [parameters](#Parameters)\n",
    "- [x] Run simulation: `qsub run.pbs`\n",
    "- [x] Run `growth.py`\n",
    "- [x] Transfer from NAS, `sup shiftc -r [source] [target]`:\n",
    "  - [x] Console output\n",
    "  - [x] `SI.hst`\n",
    "  - [x] `plots/`\n",
    "- [x] Record performance: (1) CPU Time (m); (2) zone-cycles /cpu_second\n",
    "- [x] `cpdd.py`:\n",
    "  - [x] Set `i_sat` from `growth.pdf` then run; \n",
    "  - [x] Re-transfer `plots/`\n",
    "- [x] Compute velocity dispersions with defined `i_sat`\n",
    "- [x] Particle density animation:\n",
    "  - [x] `mov.py`: Set `vmin` and `vmax` from `growth.pdf` then run\n",
    "  - [x] Transfer `rhop.mp4` from NAS\n",
    "  - [x] Upload to YouTube\n",
    "  - [x] Embed in [Particle Density Animation](#Particle-Density-Animation)"
   ]
  }
 ],
 "metadata": {
  "kernelspec": {
   "display_name": "Athena++",
   "language": "python",
   "name": "athena"
  },
  "language_info": {
   "codemirror_mode": {
    "name": "ipython",
    "version": 3
   },
   "file_extension": ".py",
   "mimetype": "text/x-python",
   "name": "python",
   "nbconvert_exporter": "python",
   "pygments_lexer": "ipython3",
   "version": "3.9.6"
  },
  "widgets": {
   "application/vnd.jupyter.widget-state+json": {
    "state": {},
    "version_major": 2,
    "version_minor": 0
   }
  }
 },
 "nbformat": 4,
 "nbformat_minor": 4
}
