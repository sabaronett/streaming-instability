{
 "cells": [
  {
   "cell_type": "markdown",
   "metadata": {
    "tags": []
   },
   "source": [
    "# BA Run\n",
    "|Author| Stanley A. Baronett|\n",
    "|--|-------------------------------|\n",
    "|Created | 8/2/2021|\n",
    "|Updated | 8/3/2021|"
   ]
  },
  {
   "cell_type": "markdown",
   "metadata": {
    "tags": []
   },
   "source": [
    "## Introduction"
   ]
  },
  {
   "cell_type": "markdown",
   "metadata": {
    "tags": []
   },
   "source": [
    "### Parameters\n",
    "\n",
    "| BC Run                                                                                                ||| $\\tau_\\textrm{s}$ | $\\epsilon$ | $L_x \\times L_y \\times L_z$              | $N_x \\times N_y \\times N_z$ | $N_\\textrm{p}$   | $n_\\textrm{p}$ | $t_\\textrm{sim}$     |\n",
    "|-------------------------------------------------------------------------------------------------------|||-------------------|------------|------------------------------------------|-----------------------------|------------------|----------------|----------------------|\n",
    "| [**JY07**](https://doi.org/10.1086/516730) **Units**                                                  ||| $1.0$             | $0.2$      | $40.0 \\times 40.0 \\times 40.0\\,[\\eta r]$ | $256 \\times 1 \\times 256$   | $1.6\\times 10^6$ | $25$           | $500.0\\,\\Omega^{-1}$ |\n",
    "| [**Code Units**](https://github.com/sabaronett/streaming-instability/blob/main/ipynb/CodeUnits.ipynb) ||| $1/(2\\pi)$        | $0.2$      | $2.0 \\times 2.0 \\times 2.0\\,[H]$         | $256 \\times 1 \\times 256$   | $2.6\\times 10^5$ | $4$            | $80\\,T$              |"
   ]
  },
  {
   "cell_type": "markdown",
   "metadata": {
    "tags": []
   },
   "source": [
    "### Performance\n",
    "\n",
    "| Compute Node | Microarchitecture | Cores/Node | PBS Code | CPU Time (m) | zone-cycles /cpu_second |\n",
    "|--------------|-------------------|------------|----------|--------------|-------------------------|\n",
    "| Pleiades     | Broadwell         | 28         | bro      | 37.9         | 1.08e+07                |"
   ]
  },
  {
   "cell_type": "markdown",
   "metadata": {
    "tags": []
   },
   "source": [
    "### Preliminary"
   ]
  },
  {
   "cell_type": "code",
   "execution_count": 1,
   "metadata": {
    "jupyter": {
     "source_hidden": true
    },
    "tags": []
   },
   "outputs": [],
   "source": [
    "import sys\n",
    "sys.path.insert(0, '/home/stanley/github/sabaronett/local/athena/athena-dust/vis/python')\n",
    "import athena_read\n",
    "from IPython.display import IFrame\n",
    "import matplotlib.pyplot as plt\n",
    "import numpy as np\n",
    "import pandas as pd\n",
    "from pathlib import Path\n",
    "\n",
    "# Get input parameters\n",
    "athinput = athena_read.athinput('athinput.si')\n",
    "c_s = athinput['hydro']['iso_sound_speed']   # sound speed\n",
    "Np_tot = athinput['problem']['npx1']\\\n",
    "         *athinput['problem']['npx2']\\\n",
    "         *athinput['problem']['npx3']        # total number of particles\n",
    "Omega = athinput['problem']['omega']         # local Keplerian ang. freq.\n",
    "epsilon = athinput['problem']['epsilon']     # avg. BG dust/gas ρ-ratio\n",
    "Pi = athinput['problem']['duy0']             # global rad. press. grad.\n",
    "tau_s = athinput['particles']['taus0']*Omega # dimensionless stopping time\n",
    "T = 2*np.pi/Omega                            # orbital period\n",
    "etav_K = Pi*c_s                              # velocity (JY07)\n",
    "\n",
    "# Collect HDF5 outputs\n",
    "outputs = sorted(list(Path('../athdf').glob(athinput['job']['problem_id'] +\n",
    "                                            '.out2.*.athdf')))\n",
    "\n",
    "# Get history output\n",
    "hst = athena_read.hst('SI.hst')"
   ]
  },
  {
   "cell_type": "markdown",
   "metadata": {
    "tags": []
   },
   "source": [
    "## Particle Density Animation"
   ]
  },
  {
   "cell_type": "code",
   "execution_count": 2,
   "metadata": {
    "jupyter": {
     "source_hidden": true
    },
    "tags": []
   },
   "outputs": [
    {
     "data": {
      "text/html": [
       "\n",
       "        <iframe\n",
       "            width=\"560\"\n",
       "            height=\"315\"\n",
       "            src=\"https://www.youtube.com/embed/oCQG8bPvEp8\"\n",
       "            frameborder=\"0\"\n",
       "            allowfullscreen\n",
       "        ></iframe>\n",
       "        "
      ],
      "text/plain": [
       "<IPython.lib.display.IFrame at 0x7f0ee96e0e80>"
      ]
     },
     "execution_count": 2,
     "metadata": {},
     "output_type": "execute_result"
    }
   ],
   "source": [
    "IFrame('https://www.youtube.com/embed/oCQG8bPvEp8', 560, 315)"
   ]
  },
  {
   "cell_type": "markdown",
   "metadata": {
    "tags": []
   },
   "source": [
    "## Maximum Particle Density Evolution"
   ]
  },
  {
   "cell_type": "code",
   "execution_count": 3,
   "metadata": {
    "jupyter": {
     "source_hidden": true
    },
    "tags": []
   },
   "outputs": [
    {
     "data": {
      "image/png": "[encoded data removed]",
      "text/plain": [
       "<Figure size 600x400 with 1 Axes>"
      ]
     },
     "metadata": {
      "needs_background": "light"
     },
     "output_type": "display_data"
    }
   ],
   "source": [
    "import matplotlib.pyplot as plt\n",
    "import numpy as np\n",
    "\n",
    "# Load NAS results\n",
    "data = np.loadtxt('plots/growth.txt')\n",
    "times = data[:, 0]\n",
    "rhopmax = data[:, 1]\n",
    "\n",
    "# Plot\n",
    "fig, ax = plt.subplots(dpi=100)\n",
    "ax.set_title(r'$\\tau_s={:.1f},\\,\\epsilon={:.1f}$'\n",
    "             .format(tau_s, epsilon), size='x-large')\n",
    "ax.set_ylabel(r'$\\rho_{p,max}$ / $\\rho_{g0}$', size='large')\n",
    "ax.set_xlabel(r'$t$ / $T$', size='large')\n",
    "ax.semilogy(times, rhopmax)\n",
    "ax.grid()"
   ]
  },
  {
   "cell_type": "markdown",
   "metadata": {},
   "source": [
    "**NOTE**: We define $t_\\textrm{sat} = 20\\,T$ in the calculations and plots below."
   ]
  },
  {
   "cell_type": "markdown",
   "metadata": {
    "tags": []
   },
   "source": [
    "## Cumulative Particle Density Distribution"
   ]
  },
  {
   "cell_type": "code",
   "execution_count": 4,
   "metadata": {
    "jupyter": {
     "source_hidden": true
    },
    "tags": []
   },
   "outputs": [
    {
     "data": {
      "image/png": "[encoded data removed]",
      "text/plain": [
       "<Figure size 600x400 with 1 Axes>"
      ]
     },
     "metadata": {
      "needs_background": "light"
     },
     "output_type": "display_data"
    }
   ],
   "source": [
    "# Load NAS results\n",
    "data = np.loadtxt('plots/cpdd_min.txt')\n",
    "cdf = data[:, 1]\n",
    "min_rhops = data[:, 0]\n",
    "data = np.loadtxt('plots/cpdd_max.txt')\n",
    "max_rhops = data[:, 0]\n",
    "data = np.loadtxt('plots/cpdd_avg.txt')\n",
    "avg_rhops = data[:, 0]\n",
    "data = np.loadtxt('plots/cpdd_std.txt')\n",
    "std_rhops = data[:, 0]\n",
    "\n",
    "# CPDD\n",
    "fig, ax = plt.subplots(dpi=100)\n",
    "ax.set_title(r'$\\tau_s={:.1f},\\,\\epsilon={:.1f}$'\n",
    "             .format(tau_s, epsilon), size='x-large')\n",
    "ax.set_xlabel(r'$\\rho_p$ / $\\langle \\rho_p \\rangle$', size='large')\n",
    "ax.set_ylabel(r'P$(>\\rho_p)$', size='large')\n",
    "ax.loglog(avg_rhops, cdf, label=r'$\\mu$')\n",
    "ax.fill_betweenx(cdf, min_rhops, max_rhops, alpha=0.2, label='[min., max.]')\n",
    "ax.fill_betweenx(cdf, avg_rhops/std_rhops, avg_rhops*std_rhops, alpha=0.4,\n",
    "                 label=r'$[\\sigma^{-1}\\mu,\\,\\sigma\\mu]$')\n",
    "ax.set_xlim(0.1, 1000)\n",
    "ax.set_ylim(1e-5, 1)\n",
    "ax.legend(loc='lower left')\n",
    "ax.grid()"
   ]
  },
  {
   "cell_type": "markdown",
   "metadata": {},
   "source": [
    "**NOTE**:\n",
    "- We compute the statistical values over the time-varying saturated state defined [above](#Maximum-Particle-Density-Evolution).\n",
    "- We calculate the standard deviation, $\\sigma$, in logarithmic space."
   ]
  },
  {
   "cell_type": "markdown",
   "metadata": {
    "tags": []
   },
   "source": [
    "## Velocity Dispersion"
   ]
  },
  {
   "cell_type": "code",
   "execution_count": 5,
   "metadata": {
    "jupyter": {
     "source_hidden": true
    },
    "tags": []
   },
   "outputs": [
    {
     "data": {
      "text/html": [
       "<style type=\"text/css\">\n",
       "</style>\n",
       "<table id=\"T_fdfb2_\">\n",
       "  <thead>\n",
       "    <tr>\n",
       "      <th class=\"blank level0\" >&nbsp;</th>\n",
       "      <th class=\"col_heading level0 col0\" >Run</th>\n",
       "      <th class=\"col_heading level0 col1\" >$\\overline{v_x}$</th>\n",
       "      <th class=\"col_heading level0 col2\" >% diff (JY07)</th>\n",
       "      <th class=\"col_heading level0 col3\" >$\\overline{v_y}$</th>\n",
       "      <th class=\"col_heading level0 col4\" >$\\overline{v_z}$</th>\n",
       "    </tr>\n",
       "  </thead>\n",
       "  <tbody>\n",
       "    <tr>\n",
       "      <th id=\"T_fdfb2_level0_row0\" class=\"row_heading level0 row0\" >0</th>\n",
       "      <td id=\"T_fdfb2_row0_col0\" class=\"data row0 col0\" >BC</td>\n",
       "      <td id=\"T_fdfb2_row0_col1\" class=\"data row0 col1\" >-0.117</td>\n",
       "      <td id=\"T_fdfb2_row0_col2\" class=\"data row0 col2\" >1.2</td>\n",
       "      <td id=\"T_fdfb2_row0_col3\" class=\"data row0 col3\" >-0.159</td>\n",
       "      <td id=\"T_fdfb2_row0_col4\" class=\"data row0 col4\" >-0.003</td>\n",
       "    </tr>\n",
       "  </tbody>\n",
       "</table>\n"
      ],
      "text/plain": [
       "<pandas.io.formats.style.Styler at 0x7f0ebd0b3880>"
      ]
     },
     "execution_count": 5,
     "metadata": {},
     "output_type": "execute_result"
    }
   ],
   "source": [
    "# Time-averaged velocities over saturated state\n",
    "ref_vx = -0.118 # [𝜂𝑣ₖ] (JY07, Table 2)\n",
    "i_sat = 1000    # saturation output start\n",
    "vp1s, vp2s, vp3s = hst['vp1'][i_sat:], hst['vp2'][i_sat:], hst['vp3'][i_sat:]\n",
    "# replace vp#s below w/ above assignments\n",
    "avg_vp1s = np.average(vp1s)/etav_K/Np_tot\n",
    "avg_vp2s = np.average(vp2s)/etav_K/Np_tot\n",
    "avg_vp3s = np.average(vp3s)/etav_K/Np_tot\n",
    "ref_diff = 100*2*np.abs((avg_vp1s - ref_vx) / (avg_vp1s + ref_vx))\n",
    "\n",
    "df = pd.DataFrame(\n",
    "    {\n",
    "        \"Run\": [\"BC\"],\n",
    "        r\"$\\overline{v_x}$\": [avg_vp1s],\n",
    "        \"% diff (JY07)\": [ref_diff],\n",
    "        r\"$\\overline{v_y}$\": [avg_vp3s],\n",
    "        r\"$\\overline{v_z}$\": [avg_vp2s],\n",
    "    }\n",
    ")\n",
    "df.style.format({\n",
    "    r\"$\\overline{v_x}$\": \"{:.3f}\",\n",
    "    \"% diff (JY07)\": \"{:.1f}\",\n",
    "    r\"$\\overline{v_y}$\": \"{:.3f}\",\n",
    "    r\"$\\overline{v_z}$\": \"{:.3f}\",\n",
    "})"
   ]
  },
  {
   "cell_type": "markdown",
   "metadata": {
    "tags": []
   },
   "source": [
    "## Tasks"
   ]
  },
  {
   "cell_type": "markdown",
   "metadata": {},
   "source": [
    "- [x] Configure `athinput.si` with converted JY07 run [parameters](#Parameters)\n",
    "- [x] Run simulation: `qsub run.pbs`\n",
    "- [ ] Run `growth.py`\n",
    "- [ ] Transfer from NAS, `sup shiftc -r [source] [target]`:\n",
    "  - [ ] Console output\n",
    "  - [ ] `SI.hst`\n",
    "  - [ ] `plots/`\n",
    "- [ ] Record performance: (1) CPU Time (m); (2) zone-cycles /cpu_second\n",
    "- [ ] `cpdd.py`:\n",
    "  - [x] Set `i_sat` from `growth.pdf` then run; \n",
    "  - [ ] Re-transfer `plots/`\n",
    "- [ ] Compute velocity dispersions with defined `i_sat`\n",
    "- [ ] Particle density animation:\n",
    "  - [x] `mov.py`: Set `vmin` and `vmax` from `growth.pdf` then run\n",
    "  - [ ] Transfer `rhop.mp4` from NAS\n",
    "  - [ ] Upload to YouTube\n",
    "  - [ ] Embed in [Particle Density Animation](#Particle-Density-Animation)"
   ]
  }
 ],
 "metadata": {
  "kernelspec": {
   "display_name": "Athena++",
   "language": "python",
   "name": "athena"
  },
  "language_info": {
   "codemirror_mode": {
    "name": "ipython",
    "version": 3
   },
   "file_extension": ".py",
   "mimetype": "text/x-python",
   "name": "python",
   "nbconvert_exporter": "python",
   "pygments_lexer": "ipython3",
   "version": "3.9.6"
  },
  "widgets": {
   "application/vnd.jupyter.widget-state+json": {
    "state": {},
    "version_major": 2,
    "version_minor": 0
   }
  }
 },
 "nbformat": 4,
 "nbformat_minor": 4
}
