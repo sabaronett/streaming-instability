{
 "cells": [
  {
   "cell_type": "markdown",
   "metadata": {
    "tags": []
   },
   "source": [
    "# Code Units"
   ]
  },
  {
   "cell_type": "markdown",
   "metadata": {},
   "source": [
    "When expressed in the code, **code units** give a numerical value of unity. The following code units can be applied to an arbitrary disk and location ([Li & Youdin, 2021](https://arxiv.org/abs/2105.06042)—henceforth LY21).\n",
    "\n",
    "- Vertical gas scale **height [L]**, $H = c_s/\\Omega = 1$\n",
    "- Orbital **period [T]**, $T = 2\\pi/\\Omega = 1$\n",
    "- Gas sound **speed [L/T]**, $c_s = H\\Omega = 2\\pi$\n",
    "  - `athinput.si`, line 61:\n",
    "    >```\n",
    "    <hydro>\n",
    "    iso_sound_speed = 6.28318530717958648 # isothermal sound speed (2π)\n",
    "    ```\n",
    "- Keplerian angular **frequency [1/T]**, $\\Omega = 2\\pi$\n",
    "  - `athinput.si`, line 73:\n",
    "    >```\n",
    "    <problem>\n",
    "    omega = 6.28318530717958648 # local Keplerian angular frequency (2π)\n",
    "    ```\n",
    "- Midplane gas **density [M/L³]**, $\\rho_g = \\rho_p/\\epsilon = 1$\n",
    "  - `athinput.si`, line 74: \n",
    "    >```\n",
    "    <problem>\n",
    "    epsilon = 0.2 # dust-to-gas density ratio\n",
    "    ```"
   ]
  },
  {
   "cell_type": "markdown",
   "metadata": {
    "tags": []
   },
   "source": [
    "# BA Run Parameters"
   ]
  },
  {
   "cell_type": "markdown",
   "metadata": {},
   "source": [
    "From [Johansen & Youdin (2007)](https://doi.org/10.1086/516730) (henceforth JY07), § 3 and Table 1 (p. 629), unless cited otherwise.\n",
    "\n",
    "- **Dimensionless stopping time**\n",
    "  - Table 1: $\\tau_s = 1.0$\n",
    "  - Eq. 2: $\\tau_s \\equiv \\Omega \\tau_f$, where $\\tau_f$ is the friction time [T]\n",
    "    - $\\tau_f = \\tau_s/\\Omega = 1/(2\\pi)$ (in code time units of $T$)\n",
    "  - `athinput.si`, line 66 (note `taus0` $\\equiv \\tau_f$): \n",
    "     >```\n",
    "     <particles>\n",
    "     taus0 = 0.159154943091895336 # friction time, τ_f (in code time unit, T)\n",
    "     ```\n",
    "- **Solids-to-gas ratio**\n",
    "  - Table 1: $\\epsilon = 0.2$\n",
    "  - JY07, Eq. 6: $\\epsilon \\equiv \\rho_p/\\rho_g$\n",
    "  - `athinput.si`, line 74:\n",
    "    >```\n",
    "    <problem>\n",
    "    epsilon = 0.2 # dust-to-gas density ratio\n",
    "    ```\n",
    "- **Global radial pressure gradient**\n",
    "  - Eq. 1: $\\eta \\approx (c_s/v_\\rm{K})^2$,\n",
    "  - Eq. 3 (LY21): $\\Pi = \\eta v_\\text{K}/c_s$,\n",
    "  - where $v_\\text{K} = \\Omega r$ is the Keplerian orbital speed\n",
    "  - From § 2 (p. 628), \"All our simulations use...\"\n",
    "    - $\\eta = 0.005$, and\n",
    "    - $c_s/v_\\textrm{K} = 0.1$\n",
    "  - Thus,\n",
    "    - $v_\\textrm{K}/c_s = 10$,\n",
    "    - $\\Pi = \\eta v_\\text{K}/c_s = 0.05$.\n",
    "  - `athinput.si`, line 75 (note `duy0` $\\equiv \\Pi$):\n",
    "    >```\n",
    "    <problem>\n",
    "    duy0 = 0.05\t# reduction in radial gas velocity, Π / sound speed\n",
    "    ```\n",
    "- **Domain size**\n",
    "  - Table 1: $L_x \\times L_y \\times L_z = 40.0 \\times 40.0 \\times 40.0$ (in units of $\\eta r$)\n",
    "  - From § 2 (p. 628), \"All our simulations use...\"\n",
    "    - $\\eta = 0.005$, and\n",
    "    - $c_s/v_\\textrm{K} = H/r = 0.1$\n",
    "  - In terms of our code length unit $H = 1$, \n",
    "    - $r = 10\\,H$,\n",
    "    - $\\eta r = 0.005 \\times 10\\,H = 0.05\\,H$, and\n",
    "    - $L_{x,y,z} = 40.0\\times0.05\\,H = 2.0\\,H$\n",
    "  - `athinput.si`, lines 36-49:\n",
    "    >```\n",
    "    <mesh>\n",
    "    x1min = -1.0 # minimum value of X1\n",
    "    x1max =  1.0 # maximum value of X1\n",
    "    ...\n",
    "    x2min = -1.0 # minimum value of X2\n",
    "    x2max =  1.0 # maximum value of X2\n",
    "    ...\n",
    "    x3min = -0.5 # minimum value of X3\n",
    "    x3max =  0.5 # maximum value of X3\n",
    "    ```\n",
    "- **Grid resolution**\n",
    "  - Table 1: $N_x \\times N_y \\times N_z = 256 \\times 1 \\times 256$\n",
    "  - `athinput.si`, lines 35-47:\n",
    "    >```\n",
    "    <mesh>\n",
    "    nx1 = 128 # Number of zones in X1-direction (x or radial)\n",
    "    ...\n",
    "    nx2 = 128 # Number of zones in X2-direction (z or vertical)\n",
    "    ...\n",
    "    nx3 = 1   # Number of zones in X3-direction (y or azimuthal)\n",
    "    ```\n",
    "- **Number of particles**\n",
    "  - Table 1: $N_p = 1.6 \\times 10^6$\n",
    "  - If the total number of cells is $256^2 = 65,536$, then this requires $1.6 \\times 10^6 / 256^2 \\approx 24$ particles per cell.\n",
    "  - Alternatively, this requires $\\sqrt{N_p} \\approx 1265$ particles in both $x-$ and $z-$directions.\n",
    "  - However, in general we should have 4 particles/cell in Athena++.\n",
    "  - `athinput.si`, lines 70-72:\n",
    "    >```\n",
    "    <problem>\n",
    "    npx1 = 256 # Number of particles in X1-direction\n",
    "    npx2 = 256 # Number of particles in X2-direction\n",
    "    npx3 = 1   # Number of particles in X3-direction\n",
    "    ``` \n",
    "- **Total run time**\n",
    "  - Table 1: $\\Delta t = 500.0$ (in units of $\\Omega^{-1}$)\n",
    "  - If $\\Omega^{-1} = 1/(2\\pi)$,\n",
    "    - $\\Delta t \\,[\\Omega^{-1}] = 500.0/(2\\pi) \\approx 80$\n",
    "  - `athinput.si`, line 29:\n",
    "    >```\n",
    "    <time>\n",
    "    tlim = 80 # time limit\n",
    "    ```"
   ]
  },
  {
   "cell_type": "markdown",
   "metadata": {
    "tags": []
   },
   "source": [
    "## Tasks"
   ]
  },
  {
   "cell_type": "markdown",
   "metadata": {},
   "source": [
    "- [x] Use BA (working) for diagnostics\n",
    "- [x] AC also working\n",
    "  - [x] If particle is small, high density needed\n",
    "- [x] See CodeUnits.ipynb (Jupyter Notebook)\n",
    "- [x] duy0 = eta*v_K (/c_s)\n",
    "  - [x] Π  = duy0 = 0.05 # reduction in radial gas velocity in terms of the speed of sound\n",
    "  - [x] DIVIDED BY SOUND SPEED\n",
    "- [x] Check 4 parameters\n",
    "  - [x] Solid-to-gas ratio\n",
    "  - [x] Domain size\n",
    "  - [x] Simulation time\n",
    "  - [x] Stopping time\n",
    "- [x] JY07 Eq. (2)\n",
    "  - [x] Stopping time needs to be 1.0\n",
    "  - [x] taus0 = 0.159154943091895336\t # drag stopping time (in code time unit)"
   ]
  }
 ],
 "metadata": {
  "kernelspec": {
   "display_name": "Athena++",
   "language": "python",
   "name": "athena"
  },
  "language_info": {
   "codemirror_mode": {
    "name": "ipython",
    "version": 3
   },
   "file_extension": ".py",
   "mimetype": "text/x-python",
   "name": "python",
   "nbconvert_exporter": "python",
   "pygments_lexer": "ipython3",
   "version": "3.9.6"
  },
  "widgets": {
   "application/vnd.jupyter.widget-state+json": {
    "state": {},
    "version_major": 2,
    "version_minor": 0
   }
  }
 },
 "nbformat": 4,
 "nbformat_minor": 4
}
