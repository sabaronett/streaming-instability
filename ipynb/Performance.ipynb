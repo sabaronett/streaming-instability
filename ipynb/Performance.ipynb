{
 "cells": [
  {
   "cell_type": "markdown",
   "metadata": {},
   "source": [
    "# Performance\n",
    "|Author| Stanley A. Baronett|\n",
    "|--|-------------------------------|\n",
    "|Created | 7/8/2021|\n",
    "|Updated | 7/9/2021|"
   ]
  },
  {
   "cell_type": "markdown",
   "metadata": {},
   "source": [
    "## Setup\n",
    "- Following runs used a 256$^2$ grid, 32$^2$ meshblocks, with `np4`.\n",
    "- All `<output#>` blocks removed from `athinput.si`.\n",
    "- Athena++ configuration based on [Recommended Compiler Options (HECC KB)](https://www.nas.nasa.gov/hecc/support/kb/recommended-compiler-options_99.html):\n",
    "```bash\n",
    "./configure.py --prob=streaming_instability -p --eos=isothermal --nghost=3 -hdf5 -h5double -mpi --cxx=icpc -mpi --mpiccmd=\"icpc -lmpi -lmpi++\" --cflag=\"-axCORE-AVX512,CORE-AVX2 -xAVX\"\n",
    "```\n",
    "With the latest Intel compiler, these compiler options (`--cflag`) allow a single executable that will run on any of the processor types, with suitable optimization determined at runtime.\n",
    "- Requested all cores on minimum number of nodes needed for 64 processes (e.g., 80 cores requested across 2 Aitken Cascade Lake nodes)."
   ]
  },
  {
   "cell_type": "markdown",
   "metadata": {},
   "source": [
    "## Configuration Details"
   ]
  },
  {
   "cell_type": "markdown",
   "metadata": {},
   "source": [
    "|                                    | Sandy Bridge        | Ivy Bridge             | Haswell                | Broadwell              | Skylake                | Cascade Lake           |\n",
    "|------------------------------------|---------------------|------------------------|------------------------|------------------------|------------------------|------------------------|\n",
    "| Processor                          | 8-core Xeon E5-2670 | 10-core Xeon E5-2680v2 | 12-core Xeon E5-2680v3 | 14-core Xeon E5-2680v4 | 20-Core Xeon Gold 6148 | 20-Core Xeon Gold 6248 |\n",
    "| Newest Instuction Set              | AVX                 | AVX                    | AVX2                   | AVX2                   | AVX-512                | AVX-512                |\n",
    "| Base CPU-Clock                     | 2.6 GHz             | 2.8 GHz                | 2.5 GHz                | 2.4 GHz                | 2.4 GHz                | 2.5 GHz                |\n",
    "| Max. Double Prec. Flops/Cycle/Core | 8                   | 8                      | 16                     | 16                     | 32                     | 32                     |\n",
    "| Memory Bandwidth (read/write)      | 51.2 GB/sec         | 59.7 GB/sec            | 68 GB/sec              | 76.8 GB/sec            | 128 GB/sec             | 141 GB/sec             |\n",
    "| Intersocket Interconnect           | 32 GB/sec           | 32 GB/sec              | 38.4 GB/sec            | 38.4 GB/sec            | 41.6 GB/sec            | 62.4 GB/sec            |\n",
    "| Inter-node InfiniBand              | 56 Gbits/s          | 56 Gbits/s             | 56 Gbits/s             | 56 Gbits/s             | 100 Gbits/s            | 200 Gbits/s            |"
   ]
  },
  {
   "cell_type": "markdown",
   "metadata": {},
   "source": [
    "HECC KB Sources:\n",
    "- [Pleiades Configuration Details](https://www.nas.nasa.gov/hecc/support/kb/pleiades-configuration-details_77.html)\n",
    "- [Electra Configuration Details](https://www.nas.nasa.gov/hecc/support/kb/electra-configuration-details_537.html)\n",
    "- [Aitken Configuration Details](https://www.nas.nasa.gov/hecc/support/kb/aitken-configuration-details_580.html)"
   ]
  },
  {
   "cell_type": "markdown",
   "metadata": {},
   "source": [
    "## Results"
   ]
  },
  {
   "cell_type": "markdown",
   "metadata": {},
   "source": [
    "| Compute Node | Microarchitecture | Cores/Node | PBS Code | CPU Time (s) (tlim=0.5) | zone-cycles /cpu_second (tlim=0.5) | CPU Time (s) (tlim=5) | zone-cycles /cpu_second (tlim=5) | CPU Time (s) (tlim=50) | zone-cycles /cpu_second (tlim=50) |\n",
    "|--------------|-------------------|------------|----------|-------------------------|------------------------------------|-----------------------|----------------------------------|------------------------|-----------------------------------|\n",
    "| Aitken       | Cascade Lake      | 40         | cas_ait  | 2.96                    | 2.25e+07                           | 30.04                 | 2.22e+07                         | 688.81                 | 1.0306e+07                        |\n",
    "| Electra      | Skylake           | 40         | sky_ele  | 3.05                    | 2.18e+07                           | 31.00                 | 2.15e+07                         | 774.20                 | 9.3390e+06                        |\n",
    "| Pleiades     | Broadwell         | 28         | bro      | 2.94                    | 2.27e+07                           | 29.49                 | 2.26e+07                         | 688.62                 | 1.0310e+07                        |\n",
    "|              | Haswell           | 24         | has      | 3.09                    | 2.16e+07                           | 31.45                 | 2.12e+07                         | 731.00                 | 9.6947e+06                        |\n",
    "|              | Ivy Bridge        | 20         | ivy      | 3.24                    | 2.05e+07                           | 30.65                 | 2.17e+07                         | 747.96                 | 9.5300e+06                        |\n",
    "|              | Sandy Bridge      | 16         | san      | 4.94                    | 1.35e+07                           | 48.76                 | 1.37e+07                         | 981.67                 | 7.2294e+06                        |"
   ]
  },
  {
   "cell_type": "markdown",
   "metadata": {},
   "source": [
    "## Tasks\n",
    "- [ ] "
   ]
  }
 ],
 "metadata": {
  "kernelspec": {
   "display_name": "Athena++",
   "language": "python",
   "name": "athena"
  },
  "language_info": {
   "codemirror_mode": {
    "name": "ipython",
    "version": 3
   },
   "file_extension": ".py",
   "mimetype": "text/x-python",
   "name": "python",
   "nbconvert_exporter": "python",
   "pygments_lexer": "ipython3",
   "version": "3.8.3"
  },
  "widgets": {
   "application/vnd.jupyter.widget-state+json": {
    "state": {},
    "version_major": 2,
    "version_minor": 0
   }
  }
 },
 "nbformat": 4,
 "nbformat_minor": 4
}
