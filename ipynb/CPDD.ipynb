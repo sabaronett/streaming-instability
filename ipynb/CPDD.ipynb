{
 "cells": [
  {
   "cell_type": "markdown",
   "metadata": {},
   "source": [
    "# Cumulative Particle-Density Distributions\n",
    "|Author| Stanley A. Baronett|\n",
    "|--|-------------------------------|\n",
    "|Created | 7/2/2021|\n",
    "|Updated | 7/31/2021|"
   ]
  },
  {
   "cell_type": "markdown",
   "metadata": {
    "tags": []
   },
   "source": [
    "## Background"
   ]
  },
  {
   "cell_type": "markdown",
   "metadata": {
    "tags": []
   },
   "source": [
    "### [Probability Density Function (PDF)](https://en.wikipedia.org/wiki/Probability_density_function)\n",
    "- A random variable $X$ has density $f_X$ if\n",
    "    \\begin{align}\n",
    "    d\\mathrm{P} &= f_{X}(x)dx, \\\\\n",
    "    \\mathrm{P}(a \\leq X \\leq b) &= \\int_{a}^{b} f_{X}(x) d x.\n",
    "    \\end{align}\n",
    "- Intuitively, one can think of $f_{X}(x)\\,dx$ as being the probability of $X$ falling within      the infinitesimal interval $[x,x+dx]$.\n",
    "- PDFs are nonnegative everywhere, with an integral over the entire space equal to unity.\n",
    "- A PDF can evaluate to greater than one; e.g., a uniform dist. on [0, 1/2] has $f_X(x) = 2$ for $0 \\leq x \\leq 1/2$ and $f_X(x) = 0$ elsewhere."
   ]
  },
  {
   "cell_type": "markdown",
   "metadata": {
    "tags": []
   },
   "source": [
    "### [Cumulative Distribution Functions (CDF)](https://en.wikipedia.org/wiki/Cumulative_distribution_function) \n",
    "- CDFs are _non-decreasing_ and _right-continuous_, defined as $$F_{X}(x)=\\mathrm{P}(X \\leq x),$$ such that $$\\lim _{x \\rightarrow-\\infty} F_{X}(x)=0, \\quad \\lim _{x \\rightarrow \\infty} F_{X}(x)=1$$\n",
    "- Since the relationship between CDFs and PDFs is\n",
    "$$\n",
    "F_{X}(x)=\\int_{-\\infty}^{x} f_{X}(u) d u,\n",
    "$$\n",
    "with\n",
    "$$\n",
    "f_{X}(x)=\\frac{dF_{X}(x)}{d x},\n",
    "$$\n",
    "then\n",
    "$$\n",
    "\\lim _{x \\rightarrow \\infty} F_{X}(x)=\\int_{-\\infty}^{\\infty} f_{X}(u) d u = 1,\n",
    "$$   "
   ]
  },
  {
   "cell_type": "code",
   "execution_count": 1,
   "metadata": {
    "jupyter": {
     "source_hidden": true
    },
    "tags": []
   },
   "outputs": [],
   "source": [
    "import sys\n",
    "sys.path.insert(0, '/home/stanley/github/sabaronett/local/athena/athena-dust/vis/python')\n",
    "import athena_read\n",
    "from pathlib import Path\n",
    "import numpy as np\n",
    "import matplotlib.pyplot as plt"
   ]
  },
  {
   "cell_type": "markdown",
   "metadata": {},
   "source": [
    "## Using CDF (Binless)"
   ]
  },
  {
   "cell_type": "markdown",
   "metadata": {
    "tags": []
   },
   "source": [
    "### np4 (cc-mod, 128$^2$)"
   ]
  },
  {
   "cell_type": "code",
   "execution_count": 3,
   "metadata": {
    "tags": []
   },
   "outputs": [],
   "source": [
    "# Collect .athdf outputs\n",
    "athinput = athena_read.athinput('../nonlinear/BA/alt_runs/cc-mod/athinput.si')\n",
    "outputs = sorted(list(Path('../nonlinear/BA/alt_runs/cc-mod/athdf').glob(athinput[\"job\"][\"problem_id\"]+'.out2.*.athdf')))"
   ]
  },
  {
   "cell_type": "code",
   "execution_count": null,
   "metadata": {
    "jupyter": {
     "source_hidden": true
    },
    "tags": []
   },
   "outputs": [],
   "source": [
    "# Init sim constants and grid\n",
    "nx1 = athinput['mesh']['nx1']              # num. radial zones\n",
    "nx2 = athinput['mesh']['nx2']              # num. vertical zones\n",
    "nx3 = athinput['mesh']['nx3']              # num. azimuthal zones\n",
    "zones = nx1*nx2*nx3                        # total num. of zones\n",
    "c_s = athinput['hydro']['iso_sound_speed'] # sound speed\n",
    "Omega = athinput['problem']['omega']       # local Keplerian angular frequency\n",
    "epsilon = athinput['problem']['epsilon']   # avg. dust/gas ρ-ratio in BG state\n",
    "Np_tot = athinput['problem']['npx1']\\\n",
    "    *athinput['problem']['npx2']\\\n",
    "    *athinput['problem']['npx3']           # total number of particles\n",
    "Np = Np_tot/nx1/nx2/nx3                    # theo avg num particles per cell\n",
    "H = c_s / Omega                            # gas scale height\n",
    "T = 2*np.pi/Omega                          # orbital period\n",
    "data = athena_read.athdf(outputs[0])\n",
    "xf, zf = data['x1f'] / H, data['x2f'] / H"
   ]
  },
  {
   "cell_type": "markdown",
   "metadata": {},
   "source": [
    "#### References:\n",
    "- [How to calculate and plot a Cumulative Distribution function with Matplotlib in Python](https://www.geeksforgeeks.org/how-to-calculate-and-plot-a-cumulative-distribution-function-with-matplotlib-in-python/)"
   ]
  },
  {
   "cell_type": "code",
   "execution_count": null,
   "metadata": {
    "jupyter": {
     "source_hidden": true
    },
    "tags": []
   },
   "outputs": [],
   "source": [
    "# Load data into memory\n",
    "times, rhopxs = [], []\n",
    "\n",
    "for output in outputs:\n",
    "    data = athena_read.athdf(output)\n",
    "    times.append(data['Time'] / T)\n",
    "    temp = data['rhop'].flatten() / epsilon # flatten & convert\n",
    "    temp = np.extract(temp>=0.1, temp)       # remove values < 0.1\n",
    "    rhopxs.append(np.sort(temp))            # sort\n",
    "    \n",
    "# Construct CDFs\n",
    "cdf = np.arange(rhopxs[0].size-1, -1, -1) / rhopxs[0].size\n",
    "cdfs = np.full((len(outputs), cdf.size), cdf)"
   ]
  },
  {
   "cell_type": "code",
   "execution_count": null,
   "metadata": {
    "jupyter": {
     "source_hidden": true
    },
    "tags": []
   },
   "outputs": [],
   "source": [
    "# CPDD\n",
    "fig, ax = plt.subplots(figsize=(6,5), dpi=100)\n",
    "# ax.set_aspect('equal')\n",
    "ax.set_title('CPDD: $t={:.2f}$ / $T$'.format(times[0]), size='x-large')\n",
    "ax.set_xlabel(r'$\\rho_p$ / $\\langle \\rho_p \\rangle$', size='large')\n",
    "ax.set_ylabel(r'P$(>\\rho_p)$', size='large')\n",
    "ax.loglog(rhopxs[0], cdfs[0])\n",
    "ax.plot([1e-2, 1e3], [1e-1, 1e-1], '--', color='black')\n",
    "ax.set_xlim(0.1, 1000)\n",
    "ax.set_ylim(1e-5, 1)\n",
    "ax.grid()"
   ]
  },
  {
   "cell_type": "markdown",
   "metadata": {},
   "source": [
    "### np4 (256$^2$)"
   ]
  },
  {
   "cell_type": "code",
   "execution_count": 4,
   "metadata": {
    "tags": []
   },
   "outputs": [],
   "source": [
    "# Collect .athdf outputs\n",
    "athinput = athena_read.athinput('../nonlinear/BA/athinput.si')\n",
    "outputs = sorted(list(Path('../nonlinear/BA/athdf').glob(athinput[\"job\"][\"problem_id\"]+'.out2.*.athdf')))"
   ]
  },
  {
   "cell_type": "code",
   "execution_count": null,
   "metadata": {
    "jupyter": {
     "source_hidden": true
    },
    "tags": []
   },
   "outputs": [],
   "source": [
    "# Init sim constants and grid\n",
    "nx1 = athinput['mesh']['nx1']              # num. radial zones\n",
    "nx2 = athinput['mesh']['nx2']              # num. vertical zones\n",
    "nx3 = athinput['mesh']['nx3']              # num. azimuthal zones\n",
    "zones = nx1*nx2*nx3                        # total num. of zones\n",
    "c_s = athinput['hydro']['iso_sound_speed'] # sound speed\n",
    "Omega = athinput['problem']['omega']       # local Keplerian angular frequency\n",
    "tau_s = athinput['particles']['taus0']*Omega # dimensionless stopping time\n",
    "epsilon = athinput['problem']['epsilon']   # avg. dust/gas ρ-ratio in BG state\n",
    "Np_tot = athinput['problem']['npx1']\\\n",
    "    *athinput['problem']['npx2']\\\n",
    "    *athinput['problem']['npx3']           # total number of particles\n",
    "Np = Np_tot/nx1/nx2/nx3                    # theo avg num particles per cell\n",
    "H = c_s / Omega                            # gas scale height\n",
    "T = 2*np.pi/Omega                          # orbital period\n",
    "\n",
    "data = athena_read.athdf(outputs[0])\n",
    "xf, zf = data['x1f'] / H, data['x2f'] / H"
   ]
  },
  {
   "cell_type": "code",
   "execution_count": null,
   "metadata": {
    "jupyter": {
     "source_hidden": true
    },
    "tags": []
   },
   "outputs": [],
   "source": [
    "# Load data into memory\n",
    "times, rhopxs = [], []\n",
    "\n",
    "for output in outputs:\n",
    "    data = athena_read.athdf(output)\n",
    "    times.append(data['Time'] / T)\n",
    "    temp = data['rhop'].flatten() / epsilon # flatten & convert\n",
    "    temp = np.extract(temp>=0.1, temp)      # remove values < 0.1\n",
    "    rhopxs.append(np.sort(temp))            # sort\n",
    "    \n",
    "# Construct CDFs\n",
    "# cdf = np.arange(rhopxs[0].size-1, -1, -1) / rhopxs[0].size\n",
    "cdf = np.linspace(1, 0, rhopxs[0].size, endpoint=False)"
   ]
  },
  {
   "cell_type": "code",
   "execution_count": null,
   "metadata": {
    "jupyter": {
     "source_hidden": true
    },
    "tags": []
   },
   "outputs": [],
   "source": [
    "rhopx1 = rhopxs[0]"
   ]
  },
  {
   "cell_type": "code",
   "execution_count": null,
   "metadata": {
    "jupyter": {
     "source_hidden": true
    },
    "tags": []
   },
   "outputs": [],
   "source": [
    "# CPDD\n",
    "fig, ax = plt.subplots(figsize=(8,6), dpi=80)\n",
    "# ax.set_aspect('equal')\n",
    "ax.set_title('CPDD: $t={:.2f}$ / $T$'.format(times[0]), size='x-large')\n",
    "ax.set_xlabel(r'$\\rho_p$ / $\\langle \\rho_p \\rangle$', size='large')\n",
    "ax.set_ylabel(r'P$(>\\rho_p)$', size='large')\n",
    "ax.loglog(rhopxs[0], cdf,\n",
    "          label=r'$\\tau_s={:.1f},\\,\\epsilon={:.1f}$'.format(tau_s, epsilon))\n",
    "ax.plot([1e-2, 1e3], [1e-1, 1e-1], '--', color='black')\n",
    "ax.set_xlim(0.1, 1000)\n",
    "ax.set_ylim(1e-5, 1)\n",
    "ax.legend()\n",
    "ax.grid()"
   ]
  },
  {
   "cell_type": "markdown",
   "metadata": {},
   "source": [
    "## Using Historgram (Bins)"
   ]
  },
  {
   "cell_type": "code",
   "execution_count": null,
   "metadata": {
    "jupyter": {
     "source_hidden": true
    },
    "tags": []
   },
   "outputs": [],
   "source": [
    "# Load data into memory\n",
    "bins = np.logspace(-1, 3, 1000)\n",
    "# bins = np.linspace(0.1, 1e3, 1000)\n",
    "times, rhopxs = [], []\n",
    "\n",
    "for output in outputs:\n",
    "    data = athena_read.athdf(output)\n",
    "    times.append(data['Time'] / T)\n",
    "    rhopxs.append(np.sort(data['rhop'].flatten()) / epsilon) # flat & sorted"
   ]
  },
  {
   "cell_type": "code",
   "execution_count": null,
   "metadata": {
    "jupyter": {
     "source_hidden": true
    },
    "tags": []
   },
   "outputs": [],
   "source": [
    "# CPDD\n",
    "fig, ax = plt.subplots(figsize=(6,5), dpi=100)\n",
    "# ax.set_aspect('equal')\n",
    "ax.set_title('CPDD: $t={:.2f}$ / $T$'.format(times[0]), size='x-large')\n",
    "ax.set_xlabel(r'$\\rho_p$ / $\\langle \\rho_p \\rangle$', size='large')\n",
    "ax.set_ylabel(r'$P(>\\rho_p)$', size='large')\n",
    "ax.hist(rhopxs[0], bins, cumulative=-1, density=True,\n",
    "        histtype='bar',  rwidth=0.7, \n",
    "        label=r'$\\tau_s={:.1f},\\,\\epsilon={:.1f}$'.format(tau_s, epsilon))\n",
    "ax.plot([1e-2, 1e3], [1e-1, 1e-1], '--', color='black')\n",
    "ax.set_xscale('log')\n",
    "ax.set_yscale('log')\n",
    "ax.set_xlim(0.1, 1000)\n",
    "ax.set_ylim(1e-5, 1)\n",
    "ax.legend()\n",
    "ax.grid()"
   ]
  },
  {
   "cell_type": "markdown",
   "metadata": {},
   "source": [
    "## CDF vs. Histogram Comparison"
   ]
  },
  {
   "cell_type": "code",
   "execution_count": null,
   "metadata": {
    "jupyter": {
     "source_hidden": true
    },
    "tags": []
   },
   "outputs": [],
   "source": [
    "# CPDD\n",
    "fig, ax = plt.subplots(figsize=(6,5), dpi=100)\n",
    "# ax.set_aspect('equal')\n",
    "ax.set_title(r'CPDD: $t={:.2f}$ / $T \\qquad (\\tau_s={:.1f},\\,\\epsilon={:.1f})$'\\\n",
    "             .format(times[0], tau_s, epsilon), size='x-large')\n",
    "ax.set_xlabel(r'$\\rho_p$ / $\\langle \\rho_p \\rangle$', size='large')\n",
    "ax.set_ylabel(r'$P(>\\rho_p)$', size='large')\n",
    "ax.loglog(rhopx1, cdf, label='From CDF')\n",
    "ax.hist(rhopxs[0], bins, cumulative=-1, density=True,\n",
    "        histtype='bar', label='Histogram', rwidth=0.7)\n",
    "ax.plot([1e-2, 1e3], [1e-1, 1e-1], '--', color='black')\n",
    "ax.set_xscale('log')\n",
    "ax.set_yscale('log')\n",
    "ax.set_xlim(0.1, 1000)\n",
    "ax.set_ylim(1e-5, 1)\n",
    "ax.legend()\n",
    "ax.grid()"
   ]
  },
  {
   "cell_type": "markdown",
   "metadata": {},
   "source": [
    "## Time-averaged Run Comparison (< 0.1 Cut)"
   ]
  },
  {
   "cell_type": "code",
   "execution_count": null,
   "metadata": {
    "tags": []
   },
   "outputs": [],
   "source": [
    "# load NAS results\n",
    "data = np.loadtxt('txt/CPDD_np4.txt')   # return (N, 2) array\n",
    "np4_rhops = data[:, 0]                  # return only 1st col\n",
    "np4_cdf = data[:, 1]                    # return only 2nd col\n",
    "data = np.loadtxt('txt/CPDD_np9.txt')\n",
    "np9_rhops = data[:, 0]\n",
    "np9_cdf = data[:, 1]\n",
    "data = np.loadtxt('txt/CPDD_np16.txt')\n",
    "np16_rhops = data[:, 0]\n",
    "np16_cdf = data[:, 1]\n",
    "data = np.loadtxt('txt/CPDD_np25.txt')\n",
    "np25_rhops = data[:, 0]\n",
    "np25_cdf = data[:, 1]\n",
    "\n",
    "# CPDD\n",
    "fig, ax = plt.subplots(figsize=(6,5), dpi=100)\n",
    "# ax.set_aspect('equal')\n",
    "ax.set_title('Cumulative Particle-Density Distributions \\n'\\\n",
    "             +r'($\\tau_s={:.1f},\\,\\epsilon={:.1f}$)'\n",
    "             .format(tau_s, epsilon), size='x-large')\n",
    "ax.set_xlabel(r'$\\rho_p$ / $\\langle \\rho_p \\rangle$', size='large')\n",
    "ax.set_ylabel(r'$P(>\\rho_p)$', size='large')\n",
    "ax.loglog(np4_rhops, np4_cdf, label='np4')\n",
    "ax.loglog(np9_rhops, np9_cdf, label='np9')\n",
    "ax.loglog(np16_rhops, np16_cdf, label='np16')\n",
    "ax.loglog(np25_rhops, np25_cdf, label='np25')\n",
    "ax.plot([1e-2, 1e3], [1e-1, 1e-1], '--', color='black')\n",
    "ax.set_xscale('log')\n",
    "ax.set_yscale('log')\n",
    "ax.set_xlim(0.1, 1000)\n",
    "ax.set_ylim(1e-5, 1)\n",
    "ax.legend(loc='lower left')\n",
    "ax.grid()"
   ]
  },
  {
   "cell_type": "markdown",
   "metadata": {},
   "source": [
    "## CPDDs (Full)"
   ]
  },
  {
   "cell_type": "markdown",
   "metadata": {
    "tags": []
   },
   "source": [
    "### np4"
   ]
  },
  {
   "cell_type": "code",
   "execution_count": null,
   "metadata": {
    "jupyter": {
     "source_hidden": true
    },
    "tags": []
   },
   "outputs": [],
   "source": [
    "# load NAS results\n",
    "data = np.loadtxt('txt/CPDD_np4_min.txt') # return (N, 2) array\n",
    "np4_cdf = data[:, 1]                      # return only 2nd col\n",
    "np4_min_rhops = data[:, 0]                # return only 1st col\n",
    "data = np.loadtxt('txt/CPDD_np4_max.txt')\n",
    "np4_max_rhops = data[:, 0]\n",
    "data = np.loadtxt('txt/CPDD_np4_avg.txt')\n",
    "np4_avg_rhops = data[:, 0]\n",
    "data = np.loadtxt('txt/CPDD_np4_std.txt')\n",
    "np4_std_rhops = data[:, 0]"
   ]
  },
  {
   "cell_type": "code",
   "execution_count": null,
   "metadata": {
    "jupyter": {
     "source_hidden": true
    },
    "tags": []
   },
   "outputs": [],
   "source": [
    "# CPDD\n",
    "fig, ax = plt.subplots(figsize=(6,5), dpi=100)\n",
    "# ax.set_aspect('equal')\n",
    "ax.set_title('Cumulative Particle-Density Distributions \\n'\\\n",
    "             +r'($n_p=4,\\,\\tau_s={:.1f},\\,\\epsilon={:.1f}$)'\n",
    "             .format(tau_s, epsilon), size='x-large')\n",
    "ax.set_xlabel(r'$\\rho_p$ / $\\langle \\rho_p \\rangle$', size='large')\n",
    "ax.set_ylabel(r'$P(>\\rho_p)$', size='large')\n",
    "ax.loglog(np4_avg_rhops, np4_cdf, label='Average')\n",
    "ax.fill_betweenx(np4_cdf, np4_min_rhops, np4_max_rhops, alpha=0.2,\n",
    "                 label='Min./Max.')\n",
    "ax.fill_betweenx(np4_cdf, np4_avg_rhops-np4_std_rhops,\n",
    "                 np4_avg_rhops+np4_std_rhops, alpha=0.4,\n",
    "                 label=r'$\\pm\\sigma$')\n",
    "ax.plot([1e-2, 1e3], [1e-1, 1e-1], '--', color='black')\n",
    "ax.set_xscale('log')\n",
    "ax.set_yscale('log')\n",
    "ax.set_xlim(0.1, 1000)\n",
    "ax.set_ylim(1e-5, 1)\n",
    "ax.legend(loc='lower left')\n",
    "ax.grid()\n",
    "plt.savefig('misc/plots/CPDD_np4.png', bbox_inches='tight',\n",
    "            pad_inches=0.01)"
   ]
  },
  {
   "cell_type": "markdown",
   "metadata": {
    "tags": []
   },
   "source": [
    "### np9"
   ]
  },
  {
   "cell_type": "code",
   "execution_count": null,
   "metadata": {
    "jupyter": {
     "source_hidden": true
    },
    "tags": []
   },
   "outputs": [],
   "source": [
    "# load NAS results\n",
    "data = np.loadtxt('txt/CPDD_np9_min.txt') # return (N, 2) array\n",
    "np9_cdf = data[:, 1]                      # return only 2nd col\n",
    "np9_min_rhops = data[:, 0]                # return only 1st col\n",
    "data = np.loadtxt('txt/CPDD_np9_max.txt')\n",
    "np9_max_rhops = data[:, 0]\n",
    "data = np.loadtxt('txt/CPDD_np9_avg.txt')\n",
    "np9_avg_rhops = data[:, 0]\n",
    "data = np.loadtxt('txt/CPDD_np9_std.txt')\n",
    "np9_std_rhops = data[:, 0]"
   ]
  },
  {
   "cell_type": "code",
   "execution_count": null,
   "metadata": {
    "jupyter": {
     "source_hidden": true
    },
    "tags": []
   },
   "outputs": [],
   "source": [
    "# CPDD\n",
    "fig, ax = plt.subplots(figsize=(6,5), dpi=100)\n",
    "# ax.set_aspect('equal')\n",
    "ax.set_title('Cumulative Particle-Density Distributions \\n'\\\n",
    "             +r'($n_p=9,\\,\\tau_s={:.1f},\\,\\epsilon={:.1f}$)'\n",
    "             .format(tau_s, epsilon), size='x-large')\n",
    "ax.set_xlabel(r'$\\rho_p$ / $\\langle \\rho_p \\rangle$', size='large')\n",
    "ax.set_ylabel(r'$P(>\\rho_p)$', size='large')\n",
    "ax.loglog(np9_avg_rhops, np9_cdf, label='Average')\n",
    "ax.fill_betweenx(np9_cdf, np9_min_rhops, np9_max_rhops, alpha=0.2,\n",
    "                 label='Min./Max.')\n",
    "ax.fill_betweenx(np9_cdf, np9_avg_rhops-np9_std_rhops,\n",
    "                 np9_avg_rhops+np9_std_rhops, alpha=0.4,\n",
    "                 label=r'$\\pm\\sigma$')\n",
    "ax.plot([1e-2, 1e3], [1e-1, 1e-1], '--', color='black')\n",
    "ax.set_xscale('log')\n",
    "ax.set_yscale('log')\n",
    "ax.set_xlim(0.1, 1000)\n",
    "ax.set_ylim(1e-5, 1)\n",
    "ax.legend(loc='lower left')\n",
    "ax.grid()\n",
    "plt.savefig('misc/plots/CPDD_np9.png', bbox_inches='tight',\n",
    "            pad_inches=0.01)"
   ]
  },
  {
   "cell_type": "markdown",
   "metadata": {
    "tags": []
   },
   "source": [
    "### np16"
   ]
  },
  {
   "cell_type": "code",
   "execution_count": null,
   "metadata": {
    "jupyter": {
     "source_hidden": true
    },
    "tags": []
   },
   "outputs": [],
   "source": [
    "# load NAS results\n",
    "data = np.loadtxt('txt/CPDD_np16_min.txt') # return (N, 2) array\n",
    "np16_cdf = data[:, 1]                      # return only 2nd col\n",
    "np16_min_rhops = data[:, 0]                # return only 1st col\n",
    "data = np.loadtxt('txt/CPDD_np16_max.txt')\n",
    "np16_max_rhops = data[:, 0]\n",
    "data = np.loadtxt('txt/CPDD_np16_avg.txt')\n",
    "np16_avg_rhops = data[:, 0]\n",
    "data = np.loadtxt('txt/CPDD_np16_std.txt')\n",
    "np16_std_rhops = data[:, 0]"
   ]
  },
  {
   "cell_type": "code",
   "execution_count": null,
   "metadata": {
    "jupyter": {
     "source_hidden": true
    },
    "tags": []
   },
   "outputs": [],
   "source": [
    "# CPDD\n",
    "fig, ax = plt.subplots(figsize=(6,5), dpi=100)\n",
    "# ax.set_aspect('equal')\n",
    "ax.set_title('Cumulative Particle-Density Distributions \\n'\\\n",
    "             +r'($n_p=16,\\,\\tau_s={:.1f},\\,\\epsilon={:.1f}$)'\n",
    "             .format(tau_s, epsilon), size='x-large')\n",
    "ax.set_xlabel(r'$\\rho_p$ / $\\langle \\rho_p \\rangle$', size='large')\n",
    "ax.set_ylabel(r'$P(>\\rho_p)$', size='large')\n",
    "ax.loglog(np16_avg_rhops, np16_cdf, label='Average')\n",
    "ax.fill_betweenx(np16_cdf, np16_min_rhops, np16_max_rhops, alpha=0.2,\n",
    "                 label='Min./Max.')\n",
    "ax.fill_betweenx(np16_cdf, np16_avg_rhops-np16_std_rhops,\n",
    "                 np16_avg_rhops+np16_std_rhops, alpha=0.4,\n",
    "                 label=r'$\\pm\\sigma$')\n",
    "ax.plot([1e-2, 1e3], [1e-1, 1e-1], '--', color='black')\n",
    "ax.set_xscale('log')\n",
    "ax.set_yscale('log')\n",
    "ax.set_xlim(0.1, 1000)\n",
    "ax.set_ylim(1e-5, 1)\n",
    "ax.legend(loc='lower left')\n",
    "ax.grid()\n",
    "plt.savefig('misc/plots/CPDD_np16.png', bbox_inches='tight',\n",
    "            pad_inches=0.01)"
   ]
  },
  {
   "cell_type": "markdown",
   "metadata": {},
   "source": [
    "## CPDDs (w/ SD in log space)"
   ]
  },
  {
   "cell_type": "markdown",
   "metadata": {},
   "source": [
    "A **standard deviation** _in log space_ gives equal lengths on either side of the average on a log-scale axis.\n",
    "\n",
    "$$ \\sigma = \\exp({\\textrm{SD}[\\ln X]}) $$\n",
    "$$ [\\sigma^{-1}\\mu,\\,\\sigma\\mu] $$\n",
    "\n",
    "_Source_: [CC's Slack messages](https://unlv-diskandplanet.slack.com/archives/C01B0NBE3CY/p1627591911000500?thread_ts=1627162756.000400&cid=C01B0NBE3CY)"
   ]
  },
  {
   "cell_type": "markdown",
   "metadata": {
    "tags": []
   },
   "source": [
    "## np25"
   ]
  },
  {
   "cell_type": "code",
   "execution_count": null,
   "metadata": {
    "jupyter": {
     "source_hidden": true
    },
    "tags": []
   },
   "outputs": [],
   "source": [
    "# load NAS results\n",
    "data = np.loadtxt('txt/CPDD_np25_min.txt') # return (N, 2) array\n",
    "np25_cdf = data[:, 1]                      # return only 2nd col\n",
    "np25_min_rhops = data[:, 0]                # return only 1st col\n",
    "data = np.loadtxt('txt/CPDD_np25_max.txt')\n",
    "np25_max_rhops = data[:, 0]\n",
    "data = np.loadtxt('txt/CPDD_np25_avg.txt')\n",
    "np25_avg_rhops = data[:, 0]\n",
    "data = np.loadtxt('txt/CPDD_np25_sigma.txt')\n",
    "np25_sigma_rhops = data[:, 0]"
   ]
  },
  {
   "cell_type": "code",
   "execution_count": null,
   "metadata": {
    "tags": []
   },
   "outputs": [],
   "source": [
    "# CPDD\n",
    "fig, ax = plt.subplots(figsize=(6,6), dpi=100)\n",
    "# ax.set_aspect('equal')\n",
    "ax.set_title('Cumulative Particle-Density Distributions \\n'\\\n",
    "             +r'($n_p=25,\\,\\tau_s={:.1f},\\,\\epsilon={:.1f}$)'\n",
    "             .format(tau_s, epsilon), size='x-large')\n",
    "ax.set_xlabel(r'$\\rho_p$ / $\\langle \\rho_p \\rangle$', size='large')\n",
    "ax.set_ylabel(r'$P(>\\rho_p)$', size='large')\n",
    "ax.plot(np25_avg_rhops, np25_cdf, label=r'$\\mu$')\n",
    "ax.fill_betweenx(np25_cdf, np25_min_rhops, np25_max_rhops, alpha=0.2,\n",
    "                 label='[min., max.]')\n",
    "ax.fill_betweenx(np25_cdf, np25_avg_rhops/np25_sigma_rhops,\n",
    "                 np25_avg_rhops*np25_sigma_rhops, alpha=0.4,\n",
    "                 label=r'$[\\sigma^{-1}\\mu,\\,\\sigma\\mu]$')\n",
    "ax.plot([1e-2, 1e3], [1e-1, 1e-1], '--', color='black')\n",
    "ax.plot([5, 1], [5, 0], '--', color='red')\n",
    "ax.plot([1e-2, 1e3], [.032, .032], '--', color='red')\n",
    "ax.set_xscale('log')\n",
    "ax.set_yscale('log')\n",
    "ax.set_xlim(0.1, 1000)\n",
    "ax.set_ylim(1e-5, 1)\n",
    "ax.legend(loc='lower left')\n",
    "ax.grid()\n",
    "plt.savefig('misc/plots/CPDD_np25_SDlog.png', bbox_inches='tight',\n",
    "            pad_inches=0.01)"
   ]
  },
  {
   "cell_type": "markdown",
   "metadata": {},
   "source": [
    "## Tasks\n",
    "- [x] Undestand probability density function (PDF)\n",
    "- [x] Why does combining PDF and CDF always normalize (max 1)?\n",
    "- [x] Read §§ 4, 4.1, 4.2\n",
    "- [x] No sum needed; raw values from each zone/cell\n",
    "- [x] Rewrite CPDD algo using histogram func\n",
    "  - [x] Consider appropriate bin size (cf. JY07)\n",
    "- [x] Check 256$^2$, `np25` results against w/ JY07\n",
    "- [x] Debug script if unsure of results\n",
    "- [x] Try modifying original CDF method by cutting off < 0.1 counts (should renormalize)\n",
    "- [x] Script to avg CPDD over saturation outputs\n",
    "- [x] Read & plot averaged CPDD_np4.txt results from NAS\n",
    "- [x] Set up cpdd.py & cpdd.pbs for np9 - np25\n",
    "- [x] CPDD comparison plot of each run (cf. Fig. 11)\n",
    "- [x] Rewrite script w/o cutting (see comments in cell below)\n",
    "- [x] Compute std. dev. in log space (`cpdd3.py`)\n",
    "- [ ] Recompute log. std. dev. for np4 - np16 runs (replace above)\n",
    "- (Old)\n",
    "  - [ ] ? Measure density contrast/turbulent properties\n",
    "  - [ ] ? Morphology difference, but growth properties"
   ]
  },
  {
   "cell_type": "code",
   "execution_count": null,
   "metadata": {},
   "outputs": [],
   "source": [
    "# Chao-Chin:\n",
    "# NO CUTTING\n",
    "# - Sort each snapshot in increasing order\n",
    "# - Determine min/max values over snapshot range,\n",
    "#   for largest cell value, second largest, so on\n",
    "#   (i.e., copy line 62 for a min and max series)\n",
    "# - plot w/ 3 lines: min, avg, max\n",
    "# - compute std_dev of values over time (plot w/\n",
    "#   horizontal err. bars for each data pt., i.e.\n",
    "#   \"cell\")"
   ]
  }
 ],
 "metadata": {
  "interpreter": {
   "hash": "64207f2bff3d87667c37533ce80ad965e00dc98d977e991ef4b71373a05ea95c"
  },
  "kernelspec": {
   "display_name": "Athena++",
   "language": "python",
   "name": "athena"
  },
  "language_info": {
   "codemirror_mode": {
    "name": "ipython",
    "version": 3
   },
   "file_extension": ".py",
   "mimetype": "text/x-python",
   "name": "python",
   "nbconvert_exporter": "python",
   "pygments_lexer": "ipython3",
   "version": "3.9.6"
  },
  "widgets": {
   "application/vnd.jupyter.widget-state+json": {
    "state": {},
    "version_major": 2,
    "version_minor": 0
   }
  }
 },
 "nbformat": 4,
 "nbformat_minor": 4
}
