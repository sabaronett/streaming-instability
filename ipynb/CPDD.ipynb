{
 "cells": [
  {
   "cell_type": "markdown",
   "metadata": {},
   "source": [
    "# Cumulative Particle Density Distributions\n",
    "|Author| Stanley A. Baronett|\n",
    "|--|-------------------------------|\n",
    "|Created | 7/2/2021|\n",
    "|Updated | 7/2/2021|"
   ]
  },
  {
   "cell_type": "code",
   "execution_count": 1,
   "metadata": {},
   "outputs": [],
   "source": [
    "import sys\n",
    "sys.path.insert(0, '/home/stanley/github/sabaronett/local/athena/athena-dust/vis/python')\n",
    "import athena_read\n",
    "from pathlib import Path\n",
    "import numpy as np\n",
    "import matplotlib.pyplot as plt\n",
    "import matplotlib.colors as colors\n",
    "from matplotlib import animation"
   ]
  },
  {
   "cell_type": "code",
   "execution_count": 2,
   "metadata": {},
   "outputs": [],
   "source": [
    "# Collect .athdf outputs\n",
    "athinput = athena_read.athinput('athinput/cc-mod.athinput.si')\n",
    "outputs = sorted(list(Path('athdf').glob(athinput[\"job\"][\"problem_id\"]+'.out2.*.athdf')))"
   ]
  },
  {
   "cell_type": "code",
   "execution_count": 3,
   "metadata": {},
   "outputs": [],
   "source": [
    "# Init sim constants and grid\n",
    "nx1 = athinput['mesh']['nx1']              # num. radial zones\n",
    "nx2 = athinput['mesh']['nx2']              # num. vertical zones\n",
    "nx3 = athinput['mesh']['nx3']              # num. azimuthal zones\n",
    "c_s = athinput['hydro']['iso_sound_speed'] # sound speed\n",
    "Omega = athinput['problem']['omega']       # local Keplerian angular frequency\n",
    "epsilon = athinput['problem']['epsilon']   # avg. dust/gas ρ-ratio in BG state\n",
    "Np_tot = athinput['problem']['npx1']\\\n",
    "    *athinput['problem']['npx2']\\\n",
    "    *athinput['problem']['npx3']           # total number of particles\n",
    "Np = Np_tot/nx1/nx2/nx3                    # theo avg num particles per cell\n",
    "H = c_s / Omega                            # gas scale height\n",
    "T = 2*np.pi/Omega                          # orbital period\n",
    "data = athena_read.athdf(outputs[0])\n",
    "xf, zf = data['x1f'] / H, data['x2f'] / H"
   ]
  },
  {
   "cell_type": "code",
   "execution_count": 63,
   "metadata": {},
   "outputs": [],
   "source": [
    "# Load data into memory\n",
    "times, rhopxs, cdfs = [], [], []\n",
    "\n",
    "for output in outputs:\n",
    "    data = athena_read.athdf(output)\n",
    "    times.append(data['Time'] / T)\n",
    "    rhopx = np.sum(data['rhop'], (0,2))  # sum along z not needed!!!\n",
    "    rhopxs.append(epsilon*np.sort(rhopx)) # shape(Ny, Nx, Nz)\n",
    "    cdfs.append(np.arange(nx1-1, -1, -1) / nx1)"
   ]
  },
  {
   "cell_type": "code",
   "execution_count": 70,
   "metadata": {},
   "outputs": [
    {
     "data": {
      "image/png": "[encoded data removed]",
      "text/plain": [
       "<Figure size 640x480 with 1 Axes>"
      ]
     },
     "metadata": {
      "needs_background": "light"
     },
     "output_type": "display_data"
    }
   ],
   "source": [
    "# CPDD\n",
    "fig, ax = plt.subplots(figsize=(8,6), dpi=80)\n",
    "# ax.set_aspect('equal')\n",
    "ax.set_title('CPDD: $t={:.2f}$ / $T$'.format(times[0]), size='x-large')\n",
    "ax.set_xlabel(r'$\\rho_p$ / $\\langle \\rho_p \\rangle$', size='large')\n",
    "ax.set_ylabel(r'$P(>\\rho_p)$', size='large')\n",
    "ax.loglog(rhopxs[0], cdfs[0])\n",
    "ax.grid()"
   ]
  }
 ],
 "metadata": {
  "kernelspec": {
   "display_name": "Athena++",
   "language": "python",
   "name": "athena"
  },
  "language_info": {
   "codemirror_mode": {
    "name": "ipython",
    "version": 3
   },
   "file_extension": ".py",
   "mimetype": "text/x-python",
   "name": "python",
   "nbconvert_exporter": "python",
   "pygments_lexer": "ipython3",
   "version": "3.8.3"
  },
  "widgets": {
   "application/vnd.jupyter.widget-state+json": {
    "state": {},
    "version_major": 2,
    "version_minor": 0
   }
  }
 },
 "nbformat": 4,
 "nbformat_minor": 4
}
