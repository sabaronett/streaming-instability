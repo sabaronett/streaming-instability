{
 "cells": [
  {
   "cell_type": "markdown",
   "metadata": {},
   "source": [
    "# Distribution Functions\n",
    "| Author  | Stanley A. Baronett |\n",
    "|---------|---------------------|\n",
    "| Created | 07/02/2021          |\n",
    "| Updated | 08/02/2022          |"
   ]
  },
  {
   "cell_type": "markdown",
   "metadata": {
    "tags": []
   },
   "source": [
    "## [Probability Density Function (PDF)](https://en.wikipedia.org/wiki/Probability_density_function)\n",
    "- A random variable $X$ has density $f_X$ if\n",
    "\\begin{align*}\n",
    "    \\mathrm{dP} &= f_{X}(x)\\mathrm{d}x, \\\\\n",
    "    \\mathrm{P}(a \\leq X \\leq b) &= \\int_{a}^{b} f_{X}(x) \\mathrm{d}x.\n",
    "\\end{align*}\n",
    "- Intuitively, one can think of $f_{X}(x)\\,\\mathrm{d}x$ as being the probability of $X$ falling within the infinitesimal interval $[x,x+\\mathrm{d}x]$.\n",
    "- PDFs are nonnegative everywhere, with an integral over the entire space equal to unity.\n",
    "- A PDF can evaluate to greater than one, e.g., a uniform distribution on $\\left[0, \\tfrac{1}{2}\\right]$ has $f_X(x) = 2$ for $0 \\leq x \\leq \\tfrac{1}{2}$ and $f_X(x) = 0$ elsewhere."
   ]
  },
  {
   "cell_type": "markdown",
   "metadata": {
    "tags": []
   },
   "source": [
    "## [Cumulative Distribution Functions (CDF)](https://en.wikipedia.org/wiki/Cumulative_distribution_function) \n",
    "- CDFs are _non-decreasing_ and _right-continuous_, defined as $$F_{X}(x)=\\mathrm{P}(X \\leq x),$$ such that $$\\lim _{x \\rightarrow-\\infty} F_{X}(x)=0, \\quad \\lim _{x \\rightarrow \\infty} F_{X}(x)=1$$\n",
    "- Since the relationship between CDFs and PDFs is\n",
    "    $$\n",
    "    F_{X}(x)=\\int_{-\\infty}^{x} f_{X}(u) \\mathrm{d}u,\n",
    "    $$\n",
    "  with\n",
    "    $$\n",
    "    f_{X}(x)=\\frac{\\mathrm{d}F_{X}(x)}{\\mathrm{d}x},\n",
    "    $$\n",
    "  then\n",
    "    $$\n",
    "    \\lim _{x \\rightarrow \\infty} F_{X}(x)=\\int_{-\\infty}^{\\infty} f_{X}(u) \\mathrm{d}u = 1,\n",
    "    $$   "
   ]
  },
  {
   "cell_type": "markdown",
   "metadata": {},
   "source": [
    "## Using CDF (Binless)"
   ]
  },
  {
   "cell_type": "markdown",
   "metadata": {
    "tags": []
   },
   "source": [
    "### np4 (cc-mod, 128$^2$)"
   ]
  },
  {
   "cell_type": "code",
   "execution_count": 3,
   "metadata": {
    "tags": []
   },
   "outputs": [],
   "source": [
    "# Collect .athdf outputs\n",
    "athinput = athena_read.athinput('../nonlinear/BA/alt_runs/cc-mod/athinput.si')\n",
    "outputs = sorted(list(Path('../nonlinear/BA/alt_runs/cc-mod/athdf').glob(athinput[\"job\"][\"problem_id\"]+'.out2.*.athdf')))"
   ]
  },
  {
   "cell_type": "code",
   "execution_count": null,
   "metadata": {
    "jupyter": {
     "source_hidden": true
    },
    "tags": []
   },
   "outputs": [],
   "source": [
    "# Init sim constants and grid\n",
    "nx1 = athinput['mesh']['nx1']              # num. radial zones\n",
    "nx2 = athinput['mesh']['nx2']              # num. vertical zones\n",
    "nx3 = athinput['mesh']['nx3']              # num. azimuthal zones\n",
    "zones = nx1*nx2*nx3                        # total num. of zones\n",
    "c_s = athinput['hydro']['iso_sound_speed'] # sound speed\n",
    "Omega = athinput['problem']['omega']       # local Keplerian angular frequency\n",
    "epsilon = athinput['problem']['epsilon']   # avg. dust/gas ρ-ratio in BG state\n",
    "Np_tot = athinput['problem']['npx1']\\\n",
    "    *athinput['problem']['npx2']\\\n",
    "    *athinput['problem']['npx3']           # total number of particles\n",
    "Np = Np_tot/nx1/nx2/nx3                    # theo avg num particles per cell\n",
    "H = c_s / Omega                            # gas scale height\n",
    "T = 2*np.pi/Omega                          # orbital period\n",
    "data = athena_read.athdf(outputs[0])\n",
    "xf, zf = data['x1f'] / H, data['x2f'] / H"
   ]
  },
  {
   "cell_type": "markdown",
   "metadata": {},
   "source": [
    "#### References:\n",
    "- [How to calculate and plot a Cumulative Distribution function with Matplotlib in Python](https://www.geeksforgeeks.org/how-to-calculate-and-plot-a-cumulative-distribution-function-with-matplotlib-in-python/)"
   ]
  },
  {
   "cell_type": "code",
   "execution_count": null,
   "metadata": {
    "jupyter": {
     "source_hidden": true
    },
    "tags": []
   },
   "outputs": [],
   "source": [
    "# Load data into memory\n",
    "times, rhopxs = [], []\n",
    "\n",
    "for output in outputs:\n",
    "    data = athena_read.athdf(output)\n",
    "    times.append(data['Time'] / T)\n",
    "    temp = data['rhop'].flatten() / epsilon # flatten & convert\n",
    "    temp = np.extract(temp>=0.1, temp)       # remove values < 0.1\n",
    "    rhopxs.append(np.sort(temp))            # sort\n",
    "    \n",
    "# Construct CDFs\n",
    "cdf = np.arange(rhopxs[0].size-1, -1, -1) / rhopxs[0].size\n",
    "cdfs = np.full((len(outputs), cdf.size), cdf)"
   ]
  },
  {
   "cell_type": "code",
   "execution_count": null,
   "metadata": {
    "jupyter": {
     "source_hidden": true
    },
    "tags": []
   },
   "outputs": [],
   "source": [
    "# CPDD\n",
    "fig, ax = plt.subplots(figsize=(6,5), dpi=100)\n",
    "# ax.set_aspect('equal')\n",
    "ax.set_title('CPDD: $t={:.2f}$ / $T$'.format(times[0]), size='x-large')\n",
    "ax.set_xlabel(r'$\\rho_p$ / $\\langle \\rho_p \\rangle$', size='large')\n",
    "ax.set_ylabel(r'P$(>\\rho_p)$', size='large')\n",
    "ax.loglog(rhopxs[0], cdfs[0])\n",
    "ax.plot([1e-2, 1e3], [1e-1, 1e-1], '--', color='black')\n",
    "ax.set_xlim(0.1, 1000)\n",
    "ax.set_ylim(1e-5, 1)\n",
    "ax.grid()"
   ]
  },
  {
   "cell_type": "markdown",
   "metadata": {},
   "source": [
    "### np4 (256$^2$)"
   ]
  },
  {
   "cell_type": "code",
   "execution_count": 4,
   "metadata": {
    "tags": []
   },
   "outputs": [],
   "source": [
    "# Collect .athdf outputs\n",
    "athinput = athena_read.athinput('../nonlinear/BA/athinput.si')\n",
    "outputs = sorted(list(Path('../nonlinear/BA/athdf').glob(athinput[\"job\"][\"problem_id\"]+'.out2.*.athdf')))"
   ]
  },
  {
   "cell_type": "code",
   "execution_count": null,
   "metadata": {
    "jupyter": {
     "source_hidden": true
    },
    "tags": []
   },
   "outputs": [],
   "source": [
    "# Init sim constants and grid\n",
    "nx1 = athinput['mesh']['nx1']              # num. radial zones\n",
    "nx2 = athinput['mesh']['nx2']              # num. vertical zones\n",
    "nx3 = athinput['mesh']['nx3']              # num. azimuthal zones\n",
    "zones = nx1*nx2*nx3                        # total num. of zones\n",
    "c_s = athinput['hydro']['iso_sound_speed'] # sound speed\n",
    "Omega = athinput['problem']['omega']       # local Keplerian angular frequency\n",
    "tau_s = athinput['particles']['taus0']*Omega # dimensionless stopping time\n",
    "epsilon = athinput['problem']['epsilon']   # avg. dust/gas ρ-ratio in BG state\n",
    "Np_tot = athinput['problem']['npx1']\\\n",
    "    *athinput['problem']['npx2']\\\n",
    "    *athinput['problem']['npx3']           # total number of particles\n",
    "Np = Np_tot/nx1/nx2/nx3                    # theo avg num particles per cell\n",
    "H = c_s / Omega                            # gas scale height\n",
    "T = 2*np.pi/Omega                          # orbital period\n",
    "\n",
    "data = athena_read.athdf(outputs[0])\n",
    "xf, zf = data['x1f'] / H, data['x2f'] / H"
   ]
  },
  {
   "cell_type": "code",
   "execution_count": null,
   "metadata": {
    "jupyter": {
     "source_hidden": true
    },
    "tags": []
   },
   "outputs": [],
   "source": [
    "# Load data into memory\n",
    "times, rhopxs = [], []\n",
    "\n",
    "for output in outputs:\n",
    "    data = athena_read.athdf(output)\n",
    "    times.append(data['Time'] / T)\n",
    "    temp = data['rhop'].flatten() / epsilon # flatten & convert\n",
    "    temp = np.extract(temp>=0.1, temp)      # remove values < 0.1\n",
    "    rhopxs.append(np.sort(temp))            # sort\n",
    "    \n",
    "# Construct CDFs\n",
    "# cdf = np.arange(rhopxs[0].size-1, -1, -1) / rhopxs[0].size\n",
    "cdf = np.linspace(1, 0, rhopxs[0].size, endpoint=False)"
   ]
  },
  {
   "cell_type": "code",
   "execution_count": null,
   "metadata": {
    "jupyter": {
     "source_hidden": true
    },
    "tags": []
   },
   "outputs": [],
   "source": [
    "rhopx1 = rhopxs[0]"
   ]
  },
  {
   "cell_type": "code",
   "execution_count": null,
   "metadata": {
    "jupyter": {
     "source_hidden": true
    },
    "tags": []
   },
   "outputs": [],
   "source": [
    "# CPDD\n",
    "fig, ax = plt.subplots(figsize=(8,6), dpi=80)\n",
    "# ax.set_aspect('equal')\n",
    "ax.set_title('CPDD: $t={:.2f}$ / $T$'.format(times[0]), size='x-large')\n",
    "ax.set_xlabel(r'$\\rho_p$ / $\\langle \\rho_p \\rangle$', size='large')\n",
    "ax.set_ylabel(r'P$(>\\rho_p)$', size='large')\n",
    "ax.loglog(rhopxs[0], cdf,\n",
    "          label=r'$\\tau_s={:.1f},\\,\\epsilon={:.1f}$'.format(tau_s, epsilon))\n",
    "ax.plot([1e-2, 1e3], [1e-1, 1e-1], '--', color='black')\n",
    "ax.set_xlim(0.1, 1000)\n",
    "ax.set_ylim(1e-5, 1)\n",
    "ax.legend()\n",
    "ax.grid()"
   ]
  },
  {
   "cell_type": "markdown",
   "metadata": {},
   "source": [
    "## Using Historgram (Bins)"
   ]
  },
  {
   "cell_type": "code",
   "execution_count": null,
   "metadata": {
    "jupyter": {
     "source_hidden": true
    },
    "tags": []
   },
   "outputs": [],
   "source": [
    "# Load data into memory\n",
    "bins = np.logspace(-1, 3, 1000)\n",
    "# bins = np.linspace(0.1, 1e3, 1000)\n",
    "times, rhopxs = [], []\n",
    "\n",
    "for output in outputs:\n",
    "    data = athena_read.athdf(output)\n",
    "    times.append(data['Time'] / T)\n",
    "    rhopxs.append(np.sort(data['rhop'].flatten()) / epsilon) # flat & sorted"
   ]
  },
  {
   "cell_type": "code",
   "execution_count": null,
   "metadata": {
    "jupyter": {
     "source_hidden": true
    },
    "tags": []
   },
   "outputs": [],
   "source": [
    "# CPDD\n",
    "fig, ax = plt.subplots(figsize=(6,5), dpi=100)\n",
    "# ax.set_aspect('equal')\n",
    "ax.set_title('CPDD: $t={:.2f}$ / $T$'.format(times[0]), size='x-large')\n",
    "ax.set_xlabel(r'$\\rho_p$ / $\\langle \\rho_p \\rangle$', size='large')\n",
    "ax.set_ylabel(r'$P(>\\rho_p)$', size='large')\n",
    "ax.hist(rhopxs[0], bins, cumulative=-1, density=True,\n",
    "        histtype='bar',  rwidth=0.7, \n",
    "        label=r'$\\tau_s={:.1f},\\,\\epsilon={:.1f}$'.format(tau_s, epsilon))\n",
    "ax.plot([1e-2, 1e3], [1e-1, 1e-1], '--', color='black')\n",
    "ax.set_xscale('log')\n",
    "ax.set_yscale('log')\n",
    "ax.set_xlim(0.1, 1000)\n",
    "ax.set_ylim(1e-5, 1)\n",
    "ax.legend()\n",
    "ax.grid()"
   ]
  },
  {
   "cell_type": "markdown",
   "metadata": {},
   "source": [
    "## CDF vs. Histogram Comparison"
   ]
  },
  {
   "cell_type": "code",
   "execution_count": null,
   "metadata": {
    "jupyter": {
     "source_hidden": true
    },
    "tags": []
   },
   "outputs": [],
   "source": [
    "# CPDD\n",
    "fig, ax = plt.subplots(figsize=(6,5), dpi=100)\n",
    "# ax.set_aspect('equal')\n",
    "ax.set_title(r'CPDD: $t={:.2f}$ / $T \\qquad (\\tau_s={:.1f},\\,\\epsilon={:.1f})$'\\\n",
    "             .format(times[0], tau_s, epsilon), size='x-large')\n",
    "ax.set_xlabel(r'$\\rho_p$ / $\\langle \\rho_p \\rangle$', size='large')\n",
    "ax.set_ylabel(r'$P(>\\rho_p)$', size='large')\n",
    "ax.loglog(rhopx1, cdf, label='From CDF')\n",
    "ax.hist(rhopxs[0], bins, cumulative=-1, density=True,\n",
    "        histtype='bar', label='Histogram', rwidth=0.7)\n",
    "ax.plot([1e-2, 1e3], [1e-1, 1e-1], '--', color='black')\n",
    "ax.set_xscale('log')\n",
    "ax.set_yscale('log')\n",
    "ax.set_xlim(0.1, 1000)\n",
    "ax.set_ylim(1e-5, 1)\n",
    "ax.legend()\n",
    "ax.grid()"
   ]
  },
  {
   "cell_type": "markdown",
   "metadata": {},
   "source": [
    "## CPDDs (w/ SD in log space)"
   ]
  },
  {
   "cell_type": "markdown",
   "metadata": {},
   "source": [
    "A **standard deviation** _in log space_ gives equal lengths on either side of the average on a log-scale axis.\n",
    "\n",
    "$$ \\sigma = \\exp({\\textrm{SD}[\\ln X]}) $$\n",
    "$$ [\\sigma^{-1}\\mu,\\,\\sigma\\mu] $$\n",
    "\n",
    "_Source_: [CC's Slack messages](https://unlv-diskandplanet.slack.com/archives/C01B0NBE3CY/p1627591911000500?thread_ts=1627162756.000400&cid=C01B0NBE3CY)"
   ]
  },
  {
   "cell_type": "markdown",
   "metadata": {},
   "source": [
    "## Tasks\n",
    "- [x] Undestand probability density function (PDF)\n",
    "- [x] Why does combining PDF and CDF always normalize (max 1)?\n",
    "- [x] Read §§ 4, 4.1, 4.2\n",
    "- [x] No sum needed; raw values from each zone/cell\n",
    "- [x] Rewrite CPDD algo using histogram func\n",
    "  - [x] Consider appropriate bin size (cf. JY07)\n",
    "- [x] Check 256$^2$, `np25` results against w/ JY07\n",
    "- [x] Debug script if unsure of results\n",
    "- [x] Try modifying original CDF method by cutting off < 0.1 counts (should renormalize)\n",
    "- [x] Script to avg CPDD over saturation outputs\n",
    "- [x] Read & plot averaged CPDD_np4.txt results from NAS\n",
    "- [x] Set up cpdd.py & cpdd.pbs for np9 - np25\n",
    "- [x] CPDD comparison plot of each run (cf. Fig. 11)\n",
    "- [x] Rewrite script w/o cutting (see comments in cell below)\n",
    "- [x] Compute std. dev. in log space (`cpdd3.py`)\n",
    "- [ ] Recompute log. std. dev. for np4 - np16 runs (replace above)\n",
    "- (Old)\n",
    "  - [ ] ? Measure density contrast/turbulent properties\n",
    "  - [ ] ? Morphology difference, but growth properties"
   ]
  },
  {
   "cell_type": "code",
   "execution_count": null,
   "metadata": {},
   "outputs": [],
   "source": [
    "# Chao-Chin:\n",
    "# NO CUTTING\n",
    "# - Sort each snapshot in increasing order\n",
    "# - Determine min/max values over snapshot range,\n",
    "#   for largest cell value, second largest, so on\n",
    "#   (i.e., copy line 62 for a min and max series)\n",
    "# - plot w/ 3 lines: min, avg, max\n",
    "# - compute std_dev of values over time (plot w/\n",
    "#   horizontal err. bars for each data pt., i.e.\n",
    "#   \"cell\")"
   ]
  }
 ],
 "metadata": {
  "kernelspec": {
   "display_name": "Python 3.9.7 ('athena')",
   "language": "python",
   "name": "python3"
  },
  "language_info": {
   "codemirror_mode": {
    "name": "ipython",
    "version": 3
   },
   "file_extension": ".py",
   "mimetype": "text/x-python",
   "name": "python",
   "nbconvert_exporter": "python",
   "pygments_lexer": "ipython3",
   "version": "3.9.7"
  },
  "vscode": {
   "interpreter": {
    "hash": "9128f2b0b55cd1dd9170491624f03886778a80466b44bfb83b9ec183519a0194"
   }
  },
  "widgets": {
   "application/vnd.jupyter.widget-state+json": {
    "state": {},
    "version_major": 2,
    "version_minor": 0
   }
  }
 },
 "nbformat": 4,
 "nbformat_minor": 4
}
