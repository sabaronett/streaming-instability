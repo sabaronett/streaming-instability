{
 "cells": [
  {
   "cell_type": "markdown",
   "metadata": {
    "tags": []
   },
   "source": [
    "# Particle Diffusion\n",
    "|Author | Stanley A. Baronett|\n",
    "|-------|--------------------|\n",
    "|Created|  1/31/2022         |\n",
    "|Updated|  6/13/2022         |"
   ]
  },
  {
   "cell_type": "markdown",
   "metadata": {
    "tags": []
   },
   "source": [
    "## Python Imports"
   ]
  },
  {
   "cell_type": "code",
   "execution_count": 1,
   "metadata": {
    "jupyter": {
     "source_hidden": true
    },
    "tags": []
   },
   "outputs": [],
   "source": [
    "import sys\n",
    "sys.path.insert(0, '/home/stanley/bitbucket/ccyang/athena-dust/vis/python')\n",
    "import athena_read\n",
    "import matplotlib.pyplot as plt\n",
    "import numpy as np\n",
    "import pandas as pd"
   ]
  },
  {
   "cell_type": "markdown",
   "metadata": {
    "tags": []
   },
   "source": [
    "## Absolute Maximum Particle Velocities (Final Snapshot)"
   ]
  },
  {
   "cell_type": "code",
   "execution_count": 7,
   "metadata": {},
   "outputs": [
    {
     "name": "stdout",
     "output_type": "stream",
     "text": [
      "\n",
      "AB (Lx = Lz = 0.1 / H)\n",
      "  Π = 0.01\n",
      "    |v_p,x,max| = 0.25 [(L/2)/T]\n",
      "    |v_p,z,max| = 0.35 [(L/2)/T]\n",
      "         dt_max = 2.86 [T/(L/2)]\n",
      "  Π = 0.02\n",
      "    |v_p,x,max| = 0.56 [(L/2)/T]\n",
      "    |v_p,z,max| = 0.64 [(L/2)/T]\n",
      "         dt_max = 1.56 [T/(L/2)]\n",
      "  Π = 0.05\n",
      "    |v_p,x,max| = 1.06 [(L/2)/T]\n",
      "    |v_p,z,max| = 1.38 [(L/2)/T]\n",
      "         dt_max = 0.73 [T/(L/2)]\n",
      "  Π = 0.10\n",
      "    |v_p,x,max| = 2.12 [(L/2)/T]\n",
      "    |v_p,z,max| = 2.71 [(L/2)/T]\n",
      "         dt_max = 0.37 [T/(L/2)]\n",
      "\n",
      "BA (Lx = Lz = 2.0 / H)\n",
      "  Π = 0.01\n",
      "    |v_p,x,max| = 0.04 [(L/2)/T]\n",
      "    |v_p,z,max| = 0.03 [(L/2)/T]\n",
      "         dt_max = 24.95 [T/(L/2)]\n",
      "  Π = 0.02\n",
      "    |v_p,x,max| = 0.09 [(L/2)/T]\n",
      "    |v_p,z,max| = 0.05 [(L/2)/T]\n",
      "         dt_max = 10.72 [T/(L/2)]\n",
      "  Π = 0.05\n",
      "    |v_p,x,max| = 0.20 [(L/2)/T]\n",
      "    |v_p,z,max| = 0.09 [(L/2)/T]\n",
      "         dt_max = 4.92 [T/(L/2)]\n",
      "  Π = 0.10\n",
      "    |v_p,x,max| = 0.24 [(L/2)/T]\n",
      "    |v_p,z,max| = 0.14 [(L/2)/T]\n",
      "         dt_max = 4.12 [T/(L/2)]\n"
     ]
    }
   ],
   "source": [
    "runs = ['AB', 'BA']\n",
    "Pis = [0.01, 0.02, 0.05, 0.10]\n",
    "res = 2048\n",
    "dirs = ['v_p,x', 'v_p,z']\n",
    "vels = [None, None]\n",
    "vpmaxs = [[[4.9014116835902712e-02, 6.9901924241410424e-02],\n",
    "           [1.1131780624371951e-01, 1.2851029144559772e-01],\n",
    "           [2.1246485981185287e-01, 2.7507636579252753e-01],\n",
    "           [4.2330050901055599e-01, 5.4153697266332279e-01]],\n",
    "          [[1.6028950749236612e-01, 1.0658793968704268e-01],\n",
    "           [3.7310835676954823e-01, 2.1727610846700082e-01],\n",
    "           [8.1245752475401367e-01, 3.6080757214776110e-01],\n",
    "           [9.7114961815499423e-01, 5.7261392023932234e-01]]] # vpmaxs[run][Pi][dir]\n",
    "\n",
    "for i, run in enumerate(runs):\n",
    "    for j, Pi in enumerate(Pis):\n",
    "        athinput = athena_read.athinput(f'../unstrat/{run:s}/{Pi:.2f}/{res:n}/athinput.si')\n",
    "        Lx = athinput['mesh']['x1max'] - athinput['mesh']['x1min'] # [H]\n",
    "        if Pi == 0.01:\n",
    "            print(f'\\n{run} (Lx = Lz = {Lx} / H)')\n",
    "        print(f'  Π = {Pi:.2f}')\n",
    "\n",
    "        for k, dir in enumerate(dirs):\n",
    "            vels[k] = vpmaxs[i][j][k]/Lx/2\n",
    "            print(f'    |{dir:s},max| = {vels[k]:.2f} [(L/2)/T]')\n",
    "        \n",
    "        Dt = 1/np.amax(vels)\n",
    "        print(f'         dt_max = {Dt:.2f} [T/(L/2)]')\n"
   ]
  },
  {
   "cell_type": "markdown",
   "metadata": {},
   "source": []
  }
 ],
 "metadata": {
  "interpreter": {
   "hash": "9128f2b0b55cd1dd9170491624f03886778a80466b44bfb83b9ec183519a0194"
  },
  "kernelspec": {
   "display_name": "Python 3.8.5 64-bit ('athena': conda)",
   "name": "python3"
  },
  "language_info": {
   "codemirror_mode": {
    "name": "ipython",
    "version": 3
   },
   "file_extension": ".py",
   "mimetype": "text/x-python",
   "name": "python",
   "nbconvert_exporter": "python",
   "pygments_lexer": "ipython3",
   "version": "3.9.7"
  },
  "widgets": {
   "application/vnd.jupyter.widget-state+json": {
    "state": {},
    "version_major": 2,
    "version_minor": 0
   }
  }
 },
 "nbformat": 4,
 "nbformat_minor": 4
}
