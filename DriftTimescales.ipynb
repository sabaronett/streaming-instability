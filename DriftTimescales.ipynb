{
 "cells": [
  {
   "cell_type": "markdown",
   "metadata": {},
   "source": [
    "# Drift Timescale\n",
    "From Birnstiel et al. (2016, henceforth BFJ16), the dust drift speed is\n",
    "\n",
    "\\begin{equation}\n",
    "v_r \\simeq -\\frac{2}{\\rm{St}+\\rm{St}^{-1}}\\eta V_k,\n",
    "\\tag{7}\n",
    "\\end{equation}\n",
    "\n",
    "where the _Stokes number_ is\n",
    "\n",
    "\\begin{equation}\n",
    "\\text{St} = t_\\text{stop} \\Omega = \\frac{a\\rho_\\rm{s}}{\\Sigma_\\rm{g}}\\frac{\\pi}{2},\n",
    "\\tag{3-4}\n",
    "\\end{equation}\n",
    "\n",
    "with Keplerian angular velocity $\\Omega$ (at the mid-plane for a vertically isothermal gas disk with scale height $H_\\text{g} = c_\\text{s}/\\Omega$, gas surface density $\\Sigma_\\text{g}$, and gas mid-plane density of $\\rho_\\text{g,mid}=\\tfrac{\\Sigma_\\text{g}}{\\sqrt{2\\pi}H_\\text{g}}$), and where the _stopping time_ is\n",
    "\n",
    "\\begin{equation}\n",
    "t_\\text{stop} = \\frac{m\\Delta w}{F_\\text{Ep}} = \\frac{\\rho_\\text{s}a}{\\rho_\\text{g}v_\\text{th}};\n",
    "\\tag{2}\n",
    "\\end{equation}\n",
    "\n",
    "and where\n",
    "\n",
    "\\begin{equation}\n",
    "\\eta = -\\frac{1}{2}\\left( \\frac{H_\\text{p}}{r} \\right)^2 \\frac{\\partial \\ln P}{\\partial \\ln r}\n",
    "\\tag{9}\n",
    "\\end{equation}\n",
    "\n",
    "describes how much slower than Keplerian the gas is orbiting (i.e., $v_{\\phi,\\text{g}} = \\eta V_\\text{k}$), where the deviation from the Keplerian velocity is related by $\\bf{v} = \\bf{u} - \\bf{V}_\\textrm{k}$.\n",
    "\n",
    "We can define the _drift timescale_ as\n",
    "\n",
    "\\begin{equation}\n",
    "\\tau_\\text{drift} = \\frac{r}{|v_r|} \\simeq \\frac{r(\\rm{St}+\\rm{St}^{-1})}{2\\eta V_k}.\n",
    "\\tag{7}\n",
    "\\end{equation}\n",
    "\n",
    "\"For typical disk conditions, $\\eta$ is of the order of a few per mille\" (BFJ16, p. 44).  The Keplerian velocity at 1 AU is\n",
    "\n",
    "\\begin{equation}\n",
    "V_\\text{k} = \\frac{2\\pi r}{T} = 2\\pi\\text{ AU yr}^{-1}\n",
    "\\end{equation}\n",
    "\n",
    "Thus, with $\\eta \\sim 10^{-3}$, Eq. (7) reduces to\n",
    "\n",
    "\\begin{equation}\n",
    "\\tau_\\text{drift}(r = \\text{1 AU}) \\simeq \\frac{(\\rm{St}+\\rm{St}^{-1})}{4\\pi}\\times10^3\\text{ yr}.\n",
    "\\end{equation}\n",
    "\n",
    "\"[F]or typical disk mid-plane conditions at 1 AU\", $\\Sigma_\\text{g} = 200\\text{ g cm}^{-2}$ (BFJ16, p. 43), and for rocks the mean material density of a dust particle is $1-3\\text{ g cm}^{-3}$.  Thus, from Eq. (4), for a 1 dm particle ($a = 5\\text{ cm}$), with $\\rho_\\text{s} = 2\\text{ g cm}^{-3}$, its Stokes number is\n",
    "\n",
    "\\begin{equation}\n",
    "\\text{St} = \\frac{\\pi}{40} \\approx 0.0785.\n",
    "\\end{equation}\n",
    "\n",
    "Plugging this back into our last expression for $\\tau_\\text{drift}$, we find a drift timescale of\n",
    "\n",
    "\\begin{equation}\n",
    "\\tau_\\text{drift} \\approx 1020\\text{ yr}.\n",
    "\\end{equation}\n",
    "\n",
    "Compared to typical disk lifetimes of ~Myr, this is 3 orders of magnitude less, and therefore the radial drift mechanism seems too efficient (BFJ16, p. 56)."
   ]
  }
 ],
 "metadata": {
  "kernelspec": {
   "display_name": "Athena++",
   "language": "python",
   "name": "athena"
  },
  "language_info": {
   "codemirror_mode": {
    "name": "ipython",
    "version": 3
   },
   "file_extension": ".py",
   "mimetype": "text/x-python",
   "name": "python",
   "nbconvert_exporter": "python",
   "pygments_lexer": "ipython3",
   "version": "3.8.3"
  },
  "widgets": {
   "application/vnd.jupyter.widget-state+json": {
    "state": {},
    "version_major": 2,
    "version_minor": 0
   }
  }
 },
 "nbformat": 4,
 "nbformat_minor": 4
}
